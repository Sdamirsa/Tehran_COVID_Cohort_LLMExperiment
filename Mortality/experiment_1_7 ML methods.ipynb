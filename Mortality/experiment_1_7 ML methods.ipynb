{
 "cells": [
  {
   "cell_type": "code",
   "execution_count": 2,
   "id": "aa37cf1a",
   "metadata": {
    "id": "aa37cf1a"
   },
   "outputs": [],
   "source": [
    "import pandas as pd\n",
    "import numpy as np\n"
   ]
  },
  {
   "cell_type": "code",
   "execution_count": 4,
   "id": "04828757",
   "metadata": {},
   "outputs": [],
   "source": [
    "\n",
    "from sklearn.model_selection import train_test_split"
   ]
  },
  {
   "cell_type": "markdown",
   "id": "d0a3e4a4",
   "metadata": {},
   "source": [
    "# Train and Test sets"
   ]
  },
  {
   "cell_type": "raw",
   "id": "02a26e93",
   "metadata": {
    "colab": {
     "base_uri": "https://localhost:8080/"
    },
    "id": "MaKAvFOG3Pei",
    "outputId": "c5184fab-cf27-4718-a625-d56b4148d302"
   },
   "source": [
    "from google.colab import drive\n",
    "drive.mount('/content/drive')"
   ]
  },
  {
   "cell_type": "raw",
   "id": "687867a2",
   "metadata": {
    "id": "crjK4C1K3Rn0"
   },
   "source": [
    "import os\n",
    "\n",
    "# Set the search parameters\n",
    "filename = \"3.xlsx\"\n",
    "search_path = '/content/drive/My Drive'\n",
    "\n",
    "# Search for the file\n",
    "for root, dirs, files in os.walk(search_path):\n",
    "    if filename in files:\n",
    "        file_path = os.path.join(root, filename)\n",
    "        break"
   ]
  },
  {
   "cell_type": "raw",
   "id": "41093536",
   "metadata": {
    "id": "p1Bjnwy73ZTk"
   },
   "source": [
    "import pandas as pd\n",
    "\n",
    "# Load the XLSX file into a DataFrame\n",
    "df = pd.read_excel(file_path)"
   ]
  },
  {
   "cell_type": "markdown",
   "id": "c4fe0678",
   "metadata": {},
   "source": [
    "## Training set (imputing and normalizing)"
   ]
  },
  {
   "cell_type": "code",
   "execution_count": 6,
   "id": "78e641ad",
   "metadata": {
    "id": "78e641ad"
   },
   "outputs": [],
   "source": [
    "df = pd.read_excel(\"3.xlsx\")"
   ]
  },
  {
   "cell_type": "code",
   "execution_count": 7,
   "id": "5aa2e9cb",
   "metadata": {
    "id": "5aa2e9cb"
   },
   "outputs": [],
   "source": [
    "# ooutcome columns: 1.are Outcome_InhospitalMortality 2.TM_S_Intubation  3.Outcome_ICUadmission  4.TM_S_Dialysis\n",
    "df = df.dropna(subset=['Outcome_InhospitalMortality', 'TM_S_Intubation', 'Outcome_ICUadmission','TM_S_Dialysis'])"
   ]
  },
  {
   "cell_type": "code",
   "execution_count": 8,
   "id": "ea49b803",
   "metadata": {
    "id": "ea49b803"
   },
   "outputs": [],
   "source": [
    "#inja oomadim va external validation ro freeze kardim\n",
    "df_internal_validation = df[df['Patient_Hospital']!=\"Hospital2\"]\n",
    "df_external_validation = df[df['Patient_Hospital']==\"Hospital2\"]\n",
    "\n",
    "\n",
    "df_internal_validation = df_internal_validation.drop(columns=['Patient_Hospital'])\n",
    "df_external_validation = df_external_validation.drop(columns=['Patient_Hospital'])"
   ]
  },
  {
   "cell_type": "code",
   "execution_count": null,
   "id": "c8424ee1",
   "metadata": {
    "id": "c8424ee1"
   },
   "outputs": [],
   "source": [
    "#df.to_excel(\"excluding NAN.xlsx\", index=False)"
   ]
  },
  {
   "cell_type": "code",
   "execution_count": 9,
   "id": "31d91627",
   "metadata": {
    "id": "31d91627"
   },
   "outputs": [],
   "source": [
    "#inja train test split kardim va target variable ro jodakardim\n",
    "# Define features (X) and target variable (y)\n",
    "X = df_internal_validation.drop(columns=['Outcome_InhospitalMortality', 'TM_S_Intubation', 'Outcome_ICUadmission','TM_S_Dialysis'])\n",
    "y  = df_internal_validation[['Outcome_InhospitalMortality', 'TM_S_Intubation', 'Outcome_ICUadmission','TM_S_Dialysis']]\n",
    "# Perform the train-test split (adjust the test_size as needed)\n",
    "X_train , X_test , y_train , y_test = train_test_split(X,y , test_size = 0.2 , random_state = 42)"
   ]
  },
  {
   "cell_type": "code",
   "execution_count": 10,
   "id": "57c05e69",
   "metadata": {
    "id": "57c05e69"
   },
   "outputs": [],
   "source": [
    "#inja miaim va data haye categorical va numerical ro moshakhas mikonim ke bade knn categorical ha ro round konim\n",
    "cat_col=[]\n",
    "num_col=[]\n",
    "for 'Outcome_InhospitalMortality' in range(len(X_train.columns)):\n",
    "    if 'Outcome_InhospitalMortality' <=52:\n",
    "        cat_col.append(X_train.columns['Outcome_InhospitalMortality'])\n",
    "    else:\n",
    "        num_col.append(X_train.columns['Outcome_InhospitalMortality'])\n"
   ]
  },
  {
   "cell_type": "code",
   "execution_count": 11,
   "id": "b87b9bee",
   "metadata": {
    "id": "8f573066"
   },
   "outputs": [],
   "source": [
    "from sklearn.impute import KNNImputer\n",
    "X_train_array  =X_train.to_numpy()\n",
    "imputer = KNNImputer(n_neighbors=5, weights=\"uniform\")\n",
    "imputed = imputer.fit_transform(X_train_array)"
   ]
  },
  {
   "cell_type": "code",
   "execution_count": 12,
   "id": "8386bb00",
   "metadata": {
    "id": "8386bb00"
   },
   "outputs": [],
   "source": [
    "df_imputed = pd.DataFrame(imputed)\n",
    "df_imputed.columns=pd.DataFrame(X_train).columns.tolist()\n"
   ]
  },
  {
   "cell_type": "code",
   "execution_count": 13,
   "id": "25a108af",
   "metadata": {
    "id": "25a108af"
   },
   "outputs": [],
   "source": [
    "for 'Outcome_InhospitalMortality' in cat_col:\n",
    "    df_imputed[['Outcome_InhospitalMortality']] = df_imputed[['Outcome_InhospitalMortality']].round()"
   ]
  },
  {
   "cell_type": "code",
   "execution_count": 14,
   "id": "f4fb058d",
   "metadata": {
    "id": "f4fb058d"
   },
   "outputs": [],
   "source": [
    "df_imputed.reset_index(drop=True, inplace=True)\n",
    "y_train.reset_index(drop=True, inplace=True)"
   ]
  },
  {
   "cell_type": "code",
   "execution_count": 15,
   "id": "fbadc812",
   "metadata": {
    "id": "fbadc812"
   },
   "outputs": [],
   "source": [
    "#miaim x , y ro be ham michaboonim ta betonim normilize konim\n",
    "df_before_normalize = pd.concat([df_imputed , y_train], axis=1)"
   ]
  },
  {
   "cell_type": "code",
   "execution_count": 16,
   "id": "8982e9dc",
   "metadata": {
    "id": "8982e9dc"
   },
   "outputs": [],
   "source": [
    "arr_tain =df_imputed.to_numpy()"
   ]
  },
  {
   "cell_type": "code",
   "execution_count": 17,
   "id": "869a57d6",
   "metadata": {
    "id": "869a57d6"
   },
   "outputs": [],
   "source": [
    "from sklearn import preprocessing\n",
    "transform = preprocessing.StandardScaler()\n",
    "df_normalize = transform.fit_transform(arr_tain)\n",
    "df_normalize =pd.DataFrame(df_normalize)\n",
    "df_normalize.columns = df_imputed.columns.tolist()"
   ]
  },
  {
   "cell_type": "code",
   "execution_count": 18,
   "id": "099db9ad",
   "metadata": {
    "id": "099db9ad"
   },
   "outputs": [],
   "source": [
    "X_train = df_normalize\n",
    "y_train = df_before_normalize[['Outcome_InhospitalMortality', 'TM_S_Intubation', 'Outcome_ICUadmission','TM_S_Dialysis']]"
   ]
  },
  {
   "cell_type": "markdown",
   "id": "e13dbcf8",
   "metadata": {
    "id": "e13dbcf8"
   },
   "source": [
    "## Test set (imputing and normalizing)"
   ]
  },
  {
   "cell_type": "code",
   "execution_count": 19,
   "id": "cf48fe2a",
   "metadata": {
    "id": "cf48fe2a"
   },
   "outputs": [],
   "source": [
    "#inja miaim va data haye categorical va numerical ro moshakhas mikonim ke bade knn categorical ha ro round konim\n",
    "cat_col=[]\n",
    "num_col=[]\n",
    "for 'Outcome_InhospitalMortality' in range(len(X_test.columns)):\n",
    "    if 'Outcome_InhospitalMortality' <=52:\n",
    "        cat_col.append(X_test.columns['Outcome_InhospitalMortality'])\n",
    "    else:\n",
    "        num_col.append(X_test.columns['Outcome_InhospitalMortality'])\n"
   ]
  },
  {
   "cell_type": "code",
   "execution_count": 20,
   "id": "275b6806",
   "metadata": {
    "id": "275b6806"
   },
   "outputs": [],
   "source": [
    "from sklearn.impute import KNNImputer\n",
    "X_test_array  =X_test.to_numpy()\n",
    "imputer = KNNImputer(n_neighbors=5, weights=\"uniform\")\n",
    "imputed_test = imputer.fit_transform(X_test_array)"
   ]
  },
  {
   "cell_type": "code",
   "execution_count": 21,
   "id": "9b197071",
   "metadata": {
    "id": "9b197071"
   },
   "outputs": [],
   "source": [
    "df_imputed_test = pd.DataFrame(imputed_test)\n",
    "df_imputed_test.columns=pd.DataFrame(X_test).columns.tolist()\n"
   ]
  },
  {
   "cell_type": "code",
   "execution_count": 22,
   "id": "60d64f56",
   "metadata": {
    "id": "60d64f56"
   },
   "outputs": [],
   "source": [
    "for 'Outcome_InhospitalMortality' in cat_col:\n",
    "    df_imputed_test[['Outcome_InhospitalMortality']] = df_imputed_test[['Outcome_InhospitalMortality']].round()"
   ]
  },
  {
   "cell_type": "code",
   "execution_count": 23,
   "id": "70070982",
   "metadata": {
    "id": "70070982"
   },
   "outputs": [],
   "source": [
    "df_imputed_test.reset_index(drop=True, inplace=True)\n",
    "y_test.reset_index(drop=True, inplace=True)"
   ]
  },
  {
   "cell_type": "code",
   "execution_count": 24,
   "id": "23494689",
   "metadata": {
    "id": "23494689"
   },
   "outputs": [],
   "source": [
    "#miaim x , y ro be ham michaboonim ta betonim normilize konim\n",
    "df_test_before_normalize = pd.concat([df_imputed_test , y_test], axis=1)"
   ]
  },
  {
   "cell_type": "code",
   "execution_count": 26,
   "id": "4c574350",
   "metadata": {
    "id": "4c574350"
   },
   "outputs": [],
   "source": [
    "arr =df_test_before_normalize.to_numpy()"
   ]
  },
  {
   "cell_type": "code",
   "execution_count": 28,
   "id": "601f755f",
   "metadata": {
    "colab": {
     "base_uri": "https://localhost:8080/",
     "height": 443
    },
    "id": "601f755f",
    "outputId": "4baa5416-fcaf-4560-8521-8c1fefd8bb4b"
   },
   "outputs": [],
   "source": [
    "from sklearn import preprocessing\n",
    "transform = preprocessing.StandardScaler()\n",
    "df_test_normalize = transform.fit_transform(arr)\n",
    "df_test_normalize =pd.DataFrame(df_test_normalize)\n",
    "df_test_normalize.columns = df_internal_validation.columns.tolist()\n"
   ]
  },
  {
   "cell_type": "code",
   "execution_count": 29,
   "id": "29ec76da",
   "metadata": {
    "id": "29ec76da"
   },
   "outputs": [],
   "source": [
    "X_test = df_test_normalize.drop(columns=['Outcome_InhospitalMortality', 'TM_S_Intubation', 'Outcome_ICUadmission','TM_S_Dialysis'])\n",
    "y_test = df_test_before_normalize[['Outcome_InhospitalMortality', 'TM_S_Intubation', 'Outcome_ICUadmission','TM_S_Dialysis']]"
   ]
  },
  {
   "cell_type": "markdown",
   "id": "6ac69b28",
   "metadata": {
    "id": "6ac69b28"
   },
   "source": [
    ">>>Now dataset is cleaned and normalized "
   ]
  },
  {
   "cell_type": "markdown",
   "id": "575fd4a0",
   "metadata": {},
   "source": [
    "## data selection Mortality"
   ]
  },
  {
   "cell_type": "code",
   "execution_count": 30,
   "id": "d6934604",
   "metadata": {
    "run_control": {
     "marked": false
    }
   },
   "outputs": [],
   "source": [
    "from sklearn.linear_model import Lasso\n",
    "\n",
    "def lasso_MO_ICU(X_train ,y_train,X_test):\n",
    "    # Perform feature selection using LASSO on the training set\n",
    "    lasso = Lasso(alpha=0.1)\n",
    "    lasso.fit(X_train, y_train)\n",
    "\n",
    "    # Get the absolute coefficients and sort them\n",
    "    absolute_coeffs = np.abs(lasso.coef_)\n",
    "    sorted_indices = np.argsort(absolute_coeffs)[::-1]\n",
    "    \n",
    "    \n",
    "    X_train = X  = pd.DataFrame(X_train)\n",
    "    X_test = X  = pd.DataFrame(X_test)\n",
    "    # Select the top 2 features with the highest coefficients\n",
    "    selected_features = X_train.columns[sorted_indices[:40]]\n",
    "\n",
    "    # Apply feature selection to both the training and test sets\n",
    "    X_train_selected_Mortality_ICU = X_train[selected_features]\n",
    "    X_test_selected_Mortality_ICU = X_test[selected_features]\n",
    "    \n",
    "    return (pd.DataFrame(X_train_selected_Mortality_ICU), pd.DataFrame(X_test_selected_Mortality_ICU))\n",
    "\n"
   ]
  },
  {
   "cell_type": "markdown",
   "id": "675755c6",
   "metadata": {},
   "source": [
    "# Undersampling and and Oversampling\n",
    "\n",
    "using **SMOTETomek**"
   ]
  },
  {
   "cell_type": "code",
   "execution_count": 31,
   "id": "7c31ab0b",
   "metadata": {},
   "outputs": [],
   "source": [
    "from imblearn.combine import SMOTETomek\n",
    "from imblearn.under_sampling import TomekLinks\n",
    "from imblearn.combine import SMOTEENN\n",
    "from imblearn.ensemble import RUSBoostClassifier\n",
    "def balancing_dataset(X_train,y_train , X_test , y_test):\n",
    "    \n",
    "    tl = SMOTETomek(random_state=42)\n",
    "    X_resampled_train , y_resampled_train = tl.fit_resample(X_train,y_train)\n",
    "    X_resampled_test , y_resampled_test = tl.fit_resample(X_test,y_test)\n",
    "    \n",
    "    return (X_resampled_train, y_resampled_train,X_resampled_test , y_resampled_test )"
   ]
  },
  {
   "cell_type": "markdown",
   "id": "65bfd27f",
   "metadata": {
    "id": "65bfd27f"
   },
   "source": [
    "# experimenting different models on dataset"
   ]
  },
  {
   "cell_type": "code",
   "execution_count": 32,
   "id": "03126cba",
   "metadata": {
    "id": "03126cba"
   },
   "outputs": [],
   "source": [
    "\n",
    "import matplotlib.pyplot as plt\n",
    "from sklearn import preprocessing\n",
    "from sklearn.model_selection import train_test_split\n",
    "from sklearn.model_selection import GridSearchCV\n",
    "from sklearn.linear_model import LogisticRegression\n",
    "from sklearn.svm import SVC\n",
    "from sklearn.tree import DecisionTreeClassifier\n",
    "from sklearn.neighbors import KNeighborsClassifier"
   ]
  },
  {
   "cell_type": "code",
   "execution_count": 33,
   "id": "d8e654f8",
   "metadata": {
    "id": "d8e654f8"
   },
   "outputs": [],
   "source": [
    "X_train = np.array(X_train)\n",
    "X_test = np.array(X_test)"
   ]
  },
  {
   "cell_type": "markdown",
   "id": "249f4e9e",
   "metadata": {
    "id": "249f4e9e"
   },
   "source": [
    "## Logistic Regression"
   ]
  },
  {
   "cell_type": "code",
   "execution_count": null,
   "id": "a9b8b780",
   "metadata": {
    "id": "a9b8b780"
   },
   "outputs": [],
   "source": [
    "\n",
    "#remember to consider x_test and y_test for each model"
   ]
  },
  {
   "cell_type": "code",
   "execution_count": 34,
   "id": "12beb341",
   "metadata": {
    "id": "12beb341"
   },
   "outputs": [],
   "source": [
    "y_train_Outcome_InhospitalMortality = np.array(y_train['Outcome_InhospitalMortality'].tolist())\n",
    "y_test_Outcome_InhospitalMortality = np.array(y_test['Outcome_InhospitalMortality'].tolist())"
   ]
  },
  {
   "cell_type": "code",
   "execution_count": 35,
   "id": "a73cea5b",
   "metadata": {},
   "outputs": [],
   "source": [
    "from sklearn.metrics import (\n",
    "    accuracy_score,\n",
    "    confusion_matrix,\n",
    "    precision_score,\n",
    "    recall_score,\n",
    "    f1_score,\n",
    ")\n",
    "def logistic_regression_classifier(X_train, y_train, X_test, y_test):\n",
    "\n",
    "    parameters_lr = {}\n",
    "\n",
    "\n",
    "    lr = LogisticRegression(random_state=12345)\n",
    "\n",
    "\n",
    "    grid_search_lr = GridSearchCV(\n",
    "        estimator=lr,\n",
    "        param_grid=parameters_lr,\n",
    "        cv=5,\n",
    "        n_jobs=-1\n",
    "    )\n",
    "\n",
    "    logreg_cv = grid_search_lr.fit(X_train, y_train)\n",
    "\n",
    "    \n",
    "    best_classifier_lr = logreg_cv.best_estimator_\n",
    "\n",
    " \n",
    "    y_predicted_Mortality_lr = best_classifier_lr.predict(X_test)\n",
    "\n",
    " \n",
    "    accuracy = accuracy_score(y_test, y_predicted_Mortality_lr)\n",
    "    cm = confusion_matrix(y_test, y_predicted_Mortality_lr)\n",
    "    precision = precision_score(y_test, y_predicted_Mortality_lr)\n",
    "    recall = recall_score(y_test, y_predicted_Mortality_lr)\n",
    "    specificity = cm[1, 1] / (cm[1, 0] + cm[1, 1])\n",
    "    f1 = f1_score(y_test, y_predicted_Mortality_lr)\n",
    "\n",
    "\n",
    "    Logistic_Regression = {}\n",
    "    Logistic_Regression[\"accuracy\"] = accuracy\n",
    "    Logistic_Regression[\"precision\"] = precision\n",
    "    Logistic_Regression[\"recall\"] = recall\n",
    "    Logistic_Regression[\"specificity\"] = specificity\n",
    "    Logistic_Regression[\"f1\"] = f1\n",
    "\n",
    "    y_plot = {}\n",
    "    y_plot[\"y_true\"] = y_train\n",
    "    y_plot[\"y_predicted\"] = y_predicted_Mortality_lr\n",
    "    \n",
    "    Logistic_Regression = (Logistic_Regression, y_plot)\n",
    "    \n",
    "    return Logistic_Regression\n"
   ]
  },
  {
   "cell_type": "markdown",
   "id": "d43ff100",
   "metadata": {
    "id": "d43ff100"
   },
   "source": [
    "## SVM"
   ]
  },
  {
   "cell_type": "code",
   "execution_count": 36,
   "id": "77900b31",
   "metadata": {},
   "outputs": [],
   "source": [
    "from sklearn import svm\n",
    "from sklearn.model_selection import GridSearchCV\n",
    "from sklearn.metrics import (\n",
    "    accuracy_score,\n",
    "    confusion_matrix,\n",
    "    precision_score,\n",
    "    recall_score,\n",
    "    f1_score,\n",
    ")\n",
    "\n",
    "def train_and_evaluate_svm(X_train, y_train, X_test, y_test):\n",
    "\n",
    "    svm_classifier = svm.SVC(random_state=1234)\n",
    "\n",
    "\n",
    "    parameters_svm = {}\n",
    "\n",
    "\n",
    "    grid_search_svm = GridSearchCV(\n",
    "        estimator=svm_classifier,\n",
    "        param_grid=parameters_svm,\n",
    "        cv=5\n",
    "    )\n",
    "    \n",
    "   \n",
    "    svm_cv = grid_search_svm.fit(X_train, y_train)\n",
    "\n",
    " \n",
    "    best_classifier_svm = svm_cv.best_estimator_\n",
    "\n",
    "\n",
    "    y_predicted_Mortality_svm = best_classifier_svm.predict(X_test)\n",
    "\n",
    "   \n",
    "    accuracy = accuracy_score(y_test, y_predicted_Mortality_svm)\n",
    "    cm = confusion_matrix(y_test, y_predicted_Mortality_svm)\n",
    "    precision = precision_score(y_test, y_predicted_Mortality_svm)\n",
    "    recall = recall_score(y_test, y_predicted_Mortality_svm)\n",
    "    specificity = cm[1, 1] / (cm[1, 0] + cm[1, 1])\n",
    "    f1 = f1_score(y_test, y_predicted_Mortality_svm)\n",
    "\n",
    "    svm_results = {}\n",
    "    svm_results[\"accuracy\"] = accuracy\n",
    "    svm_results[\"precision\"] = precision\n",
    "    svm_results[\"recall\"] = recall\n",
    "    svm_results[\"specificity\"] = specificity\n",
    "    svm_results[\"f1\"] = f1\n",
    "\n",
    "  \n",
    "    y_plot = {}\n",
    "    y_plot[\"y_true\"] = y_train  \n",
    "    y_plot[\"y_predicted\"] = y_predicted_Mortality_svm\n",
    "\n",
    "    svm_results = (svm_results, y_plot)\n",
    "    \n",
    "    return svm_results\n",
    "\n"
   ]
  },
  {
   "cell_type": "markdown",
   "id": "2848877b",
   "metadata": {
    "id": "2848877b"
   },
   "source": [
    "## Decision tree"
   ]
  },
  {
   "cell_type": "code",
   "execution_count": 37,
   "id": "881b0189",
   "metadata": {},
   "outputs": [],
   "source": [
    "from sklearn.tree import DecisionTreeClassifier\n",
    "from sklearn.model_selection import GridSearchCV\n",
    "from sklearn.metrics import (\n",
    "    accuracy_score,\n",
    "    confusion_matrix,\n",
    "    precision_score,\n",
    "    recall_score,\n",
    "    f1_score,\n",
    ")\n",
    "\n",
    "def train_and_evaluate_tree(X_train, y_train, X_test, y_test):\n",
    "\n",
    "    parameters_tree = {}\n",
    "\n",
    " \n",
    "    tree = DecisionTreeClassifier(random_state=12345)\n",
    "\n",
    " \n",
    "    grid_search_tree = GridSearchCV(\n",
    "        estimator=tree,\n",
    "        param_grid=parameters_tree,\n",
    "        cv=5\n",
    "    )\n",
    "    \n",
    "\n",
    "    tree_cv = grid_search_tree.fit(X_train, y_train)\n",
    "\n",
    "  \n",
    "    best_classifier_tree = tree_cv.best_estimator_\n",
    "\n",
    " \n",
    "    y_predicted_Mortality_tree = best_classifier_tree.predict(X_test)\n",
    "\n",
    " \n",
    "    accuracy = accuracy_score(y_test, y_predicted_Mortality_tree)\n",
    "    cm = confusion_matrix(y_test, y_predicted_Mortality_tree)\n",
    "    precision = precision_score(y_test, y_predicted_Mortality_tree)\n",
    "    recall = recall_score(y_test, y_predicted_Mortality_tree)\n",
    "    specificity = cm[1, 1] / (cm[1, 0] + cm[1, 1])\n",
    "    f1 = f1_score(y_test, y_predicted_Mortality_tree)\n",
    "\n",
    "  \n",
    "    tree_results = {}\n",
    "    tree_results[\"accuracy\"] = accuracy\n",
    "    tree_results[\"precision\"] = precision\n",
    "    tree_results[\"recall\"] = recall\n",
    "    tree_results[\"specificity\"] = specificity\n",
    "    tree_results[\"f1\"] = f1\n",
    "\n",
    "\n",
    "    y_plot = {}\n",
    "    y_plot[\"y_true\"] = y_train \n",
    "    y_plot[\"y_predicted\"] = y_predicted_Mortality_tree\n",
    "\n",
    "    tree_results = (tree_results, y_plot)\n",
    "    \n",
    "    return tree_results\n",
    "\n"
   ]
  },
  {
   "cell_type": "markdown",
   "id": "d15a4057",
   "metadata": {
    "id": "d15a4057"
   },
   "source": [
    "## KNN"
   ]
  },
  {
   "cell_type": "code",
   "execution_count": 38,
   "id": "e16b3893",
   "metadata": {},
   "outputs": [],
   "source": [
    "from sklearn.neighbors import KNeighborsClassifier\n",
    "from sklearn.model_selection import GridSearchCV\n",
    "from sklearn.metrics import (\n",
    "    accuracy_score,\n",
    "    confusion_matrix,\n",
    "    precision_score,\n",
    "    recall_score,\n",
    "    f1_score,\n",
    ")\n",
    "\n",
    "def train_and_evaluate_knn(X_train, y_train, X_test, y_test):\n",
    "\n",
    "    parameters_knn = {}\n",
    "\n",
    " \n",
    "    knn = KNeighborsClassifier()\n",
    "\n",
    "\n",
    "    grid_search_knn = GridSearchCV(\n",
    "        estimator=knn,\n",
    "        param_grid=parameters_knn,\n",
    "        cv=5\n",
    "    )\n",
    "    \n",
    "\n",
    "    knn_cv = grid_search_knn.fit(X_train, y_train)\n",
    "\n",
    "    best_classifier_knn = knn_cv.best_estimator_\n",
    "\n",
    "    y_predicted_Mortality_knn = best_classifier_knn.predict(X_test)\n",
    "\n",
    "    accuracy = accuracy_score(y_test, y_predicted_Mortality_knn)\n",
    "    cm = confusion_matrix(y_test, y_predicted_Mortality_knn)\n",
    "    precision = precision_score(y_test, y_predicted_Mortality_knn)\n",
    "    recall = recall_score(y_test, y_predicted_Mortality_knn)\n",
    "    specificity = cm[1, 1] / (cm[1, 0] + cm[1, 1])\n",
    "    f1 = f1_score(y_test, y_predicted_Mortality_knn)\n",
    "\n",
    "    knn_results = {}\n",
    "    knn_results[\"accuracy\"] = accuracy\n",
    "    knn_results[\"precision\"] = precision\n",
    "    knn_results[\"recall\"] = recall\n",
    "    knn_results[\"specificity\"] = specificity\n",
    "    knn_results[\"f1\"] = f1\n",
    "\n",
    "\n",
    "    y_plot = {}\n",
    "    y_plot[\"y_true\"] = y_train  \n",
    "    y_plot[\"y_predicted\"] = y_predicted_Mortality_knn\n",
    "\n",
    "    knn_results = (knn_results, y_plot)\n",
    "    \n",
    "    return knn_results\n",
    "\n"
   ]
  },
  {
   "cell_type": "markdown",
   "id": "a2db56b9",
   "metadata": {
    "id": "a2db56b9"
   },
   "source": [
    "## Random forest"
   ]
  },
  {
   "cell_type": "code",
   "execution_count": 39,
   "id": "5139caf1",
   "metadata": {},
   "outputs": [],
   "source": [
    "from sklearn.ensemble import RandomForestClassifier\n",
    "from sklearn.model_selection import GridSearchCV\n",
    "from sklearn.metrics import (\n",
    "    accuracy_score,\n",
    "    confusion_matrix,\n",
    "    precision_score,\n",
    "    recall_score,\n",
    "    f1_score,\n",
    ")\n",
    "\n",
    "def train_and_evaluate_forest(X_train, y_train, X_test, y_test):\n",
    "    parameters_forest = {}\n",
    "\n",
    "\n",
    "    forest = RandomForestClassifier()\n",
    "\n",
    "\n",
    "    grid_search_forest = GridSearchCV(\n",
    "        estimator=forest,\n",
    "        param_grid=parameters_forest,\n",
    "        cv=5\n",
    "    )\n",
    "    \n",
    "\n",
    "    forest_cv = grid_search_forest.fit(X_train, y_train)\n",
    "\n",
    "    best_classifier_forest = forest_cv.best_estimator_\n",
    "\n",
    "    y_predicted_Mortality_forest = best_classifier_forest.predict(X_test)\n",
    "\n",
    "\n",
    "    accuracy = accuracy_score(y_test, y_predicted_Mortality_forest)\n",
    "    cm = confusion_matrix(y_test, y_predicted_Mortality_forest)\n",
    "    precision = precision_score(y_test, y_predicted_Mortality_forest)\n",
    "    recall = recall_score(y_test, y_predicted_Mortality_forest)\n",
    "    specificity = cm[1, 1] / (cm[1, 0] + cm[1, 1])\n",
    "    f1 = f1_score(y_test, y_predicted_Mortality_forest)\n",
    "\n",
    "\n",
    "    forest_results = {}\n",
    "    forest_results[\"accuracy\"] = accuracy\n",
    "    forest_results[\"precision\"] = precision\n",
    "    forest_results[\"recall\"] = recall\n",
    "    forest_results[\"specificity\"] = specificity\n",
    "    forest_results[\"f1\"] = f1\n",
    "\n",
    "    y_plot = {}\n",
    "    y_plot[\"y_true\"] = y_train\n",
    "    y_plot[\"y_predicted\"] = y_predicted_Mortality_forest\n",
    "\n",
    "    return forest_results, y_plot\n"
   ]
  },
  {
   "cell_type": "markdown",
   "id": "873cce87",
   "metadata": {
    "id": "873cce87"
   },
   "source": [
    "## Neural Network"
   ]
  },
  {
   "cell_type": "code",
   "execution_count": 40,
   "id": "5879d8e7",
   "metadata": {},
   "outputs": [],
   "source": [
    "from sklearn.neural_network import MLPClassifier\n",
    "from sklearn.model_selection import GridSearchCV\n",
    "from sklearn.metrics import (\n",
    "    accuracy_score,\n",
    "    confusion_matrix,\n",
    "    precision_score,\n",
    "    recall_score,\n",
    "    f1_score,\n",
    ")\n",
    "\n",
    "def train_and_evaluate_neural(X_train, y_train, X_test, y_test):\n",
    "\n",
    "    parameters_neural = {}\n",
    "\n",
    "\n",
    "    neural = MLPClassifier()\n",
    "\n",
    "    grid_search_neural = GridSearchCV(\n",
    "        estimator=neural,\n",
    "        param_grid=parameters_neural,\n",
    "        cv=5\n",
    "    )\n",
    "    \n",
    "\n",
    "    neural_cv = grid_search_neural.fit(X_train, y_train)\n",
    "\n",
    "   \n",
    "    best_classifier_neural = neural_cv.best_estimator_\n",
    "\n",
    "    \n",
    "    y_predicted_Mortality_neural = best_classifier_neural.predict(X_test)\n",
    "\n",
    "    accuracy = accuracy_score(y_test, y_predicted_Mortality_neural)\n",
    "    cm = confusion_matrix(y_test, y_predicted_Mortality_neural)\n",
    "    precision = precision_score(y_test, y_predicted_Mortality_neural)\n",
    "    recall = recall_score(y_test, y_predicted_Mortality_neural)\n",
    "    specificity = cm[1, 1] / (cm[1, 0] + cm[1, 1])\n",
    "    f1 = f1_score(y_test, y_predicted_Mortality_neural)\n",
    "\n",
    " \n",
    "    neural_results = {}\n",
    "    neural_results[\"accuracy\"] = accuracy\n",
    "    neural_results[\"precision\"] = precision\n",
    "    neural_results[\"recall\"] = recall\n",
    "    neural_results[\"specificity\"] = specificity\n",
    "    neural_results[\"f1\"] = f1\n",
    "\n",
    "    \n",
    "    y_plot = {}\n",
    "    y_plot[\"y_true\"] = y_train  \n",
    "    y_plot[\"y_predicted\"] = y_predicted_Mortality_neural\n",
    "\n",
    "    return neural_results, y_plot\n",
    "\n"
   ]
  },
  {
   "cell_type": "markdown",
   "id": "jUZXKSEf50lK",
   "metadata": {
    "id": "jUZXKSEf50lK"
   },
   "source": [
    "## XGboost"
   ]
  },
  {
   "cell_type": "code",
   "execution_count": 41,
   "id": "b2715bdb",
   "metadata": {},
   "outputs": [],
   "source": [
    "from xgboost import XGBClassifier\n",
    "from sklearn.model_selection import GridSearchCV\n",
    "from sklearn.metrics import (\n",
    "    accuracy_score,\n",
    "    confusion_matrix,\n",
    "    precision_score,\n",
    "    recall_score,\n",
    "    f1_score,\n",
    ")\n",
    "\n",
    "def train_and_evaluate_boost(X_train, y_train, X_test, y_test):\n",
    "  \n",
    "    parameters_boost = {}\n",
    "\n",
    " \n",
    "    boost = XGBClassifier()\n",
    "\n",
    "\n",
    "    grid_search_boost = GridSearchCV(\n",
    "        estimator=boost,\n",
    "        param_grid=parameters_boost,\n",
    "        cv=5\n",
    "    )\n",
    "    \n",
    "\n",
    "    boost_cv = grid_search_boost.fit(X_train, y_train)\n",
    "\n",
    "\n",
    "    best_classifier_boost = boost_cv.best_estimator_\n",
    "\n",
    "\n",
    "    y_predicted_Mortality_boost = best_classifier_boost.predict(X_test)\n",
    "\n",
    "\n",
    "    accuracy = accuracy_score(y_test, y_predicted_Mortality_boost)\n",
    "    cm = confusion_matrix(y_test, y_predicted_Mortality_boost)\n",
    "    precision = precision_score(y_test, y_predicted_Mortality_boost)\n",
    "    recall = recall_score(y_test, y_predicted_Mortality_boost)\n",
    "    specificity = cm[1, 1] / (cm[1, 0] + cm[1, 1])\n",
    "    f1 = f1_score(y_test, y_predicted_Mortality_boost)\n",
    "\n",
    "  \n",
    "    boost_results = {}\n",
    "    boost_results[\"accuracy\"] = accuracy\n",
    "    boost_results[\"precision\"] = precision\n",
    "    boost_results[\"recall\"] = recall\n",
    "    boost_results[\"specificity\"] = specificity\n",
    "    boost_results[\"f1\"] = f1\n",
    "\n",
    "\n",
    "    y_plot = {}\n",
    "    y_plot[\"y_true\"] = y_train \n",
    "    y_plot[\"y_predicted\"] = y_predicted_Mortality_boost\n",
    "\n",
    "    return boost_results, y_plot\n",
    "\n"
   ]
  },
  {
   "cell_type": "markdown",
   "id": "4f251fc7",
   "metadata": {},
   "source": [
    "# Final results"
   ]
  },
  {
   "cell_type": "code",
   "execution_count": 49,
   "id": "4b3f7bfa",
   "metadata": {
    "run_control": {
     "marked": true
    },
    "scrolled": false
   },
   "outputs": [],
   "source": [
    "list_Outcome_InhospitalMortality=[]\n",
    "\n",
    "y_train = df_before_normalize['Outcome_InhospitalMortality']\n",
    "y_test = df_test_before_normalize['Outcome_InhospitalMortality']"
   ]
  },
  {
   "cell_type": "code",
   "execution_count": 50,
   "id": "fcb68e40",
   "metadata": {},
   "outputs": [
    {
     "data": {
      "text/plain": [
       "0       1.0\n",
       "1       0.0\n",
       "2       0.0\n",
       "3       1.0\n",
       "4       0.0\n",
       "       ... \n",
       "6113    1.0\n",
       "6114    1.0\n",
       "6115    1.0\n",
       "6116    1.0\n",
       "6117    1.0\n",
       "Name: Outcome_InhospitalMortality, Length: 6118, dtype: float64"
      ]
     },
     "execution_count": 50,
     "metadata": {},
     "output_type": "execute_result"
    }
   ],
   "source": [
    "y_train"
   ]
  },
  {
   "cell_type": "code",
   "execution_count": 52,
   "id": "22669841",
   "metadata": {},
   "outputs": [],
   "source": [
    "\n",
    "X_train = df_normalize\n",
    "X_test = df_test_normalize.drop(columns=['Outcome_InhospitalMortality', 'TM_S_Intubation', 'Outcome_ICUadmission','TM_S_Dialysis'])\n",
    "\n",
    "y_train_ = pd.DataFrame(y_train)\n",
    "y_test_ = pd.DataFrame(y_test)\n",
    "\n"
   ]
  },
  {
   "cell_type": "code",
   "execution_count": 63,
   "id": "e00b8cfe",
   "metadata": {},
   "outputs": [],
   "source": [
    "def first(a,b,c,d) :\n",
    "    return(a+b+c+d)\n",
    "\n",
    "def second(a,b,c,d) :\n",
    "    return(a+b+c+d)\n",
    "\n",
    "def third(a,b,c,d) :\n",
    "    return(a+b+c+d)\n",
    "\n",
    "def forth(a,b,c,d) :\n",
    "    return(a+b+c+d)\n",
    "list_fun_1 = [first(), second(), third(), forth()]"
   ]
  },
  {
   "cell_type": "code",
   "execution_count": 69,
   "id": "04da0350",
   "metadata": {},
   "outputs": [
    {
     "name": "stdout",
     "output_type": "stream",
     "text": [
      "10\n",
      "10\n",
      "10\n",
      "10\n"
     ]
    }
   ],
   "source": [
    "\n",
    "list_fun_1 = [first, second, third, forth]\n",
    "\n",
    "for i in list_fun_1:\n",
    "    print(i(1,2,3,4))\n"
   ]
  },
  {
   "cell_type": "code",
   "execution_count": null,
   "id": "adaec50b",
   "metadata": {},
   "outputs": [],
   "source": [
    "\n",
    "X_train, X_test = lasso_MO_ICU(pd.DataFrame(X_train), y_train_ ,pd.DataFrame(X_test))\n",
    "\n",
    "X_train=np.array(X_train)\n",
    "X_test=np.array(X_test)\n",
    "\n",
    "y_train_ = np.array(y_train['Outcome_InhospitalMortality'])\n",
    "y_test_ = np.array(y_test['Outcome_InhospitalMortality'])\n",
    "\n",
    "X_train,y_train_ , X_test , y_test_ = balancing_dataset(X_train,y_train_ , X_test , y_test_)\n",
    "    \n",
    "list_Outcome_InhospitalMortality.extend([logistic_regression_classifier(X_train, y_train_, X_test, y_test_),\n",
    "                                            train_and_evaluate_svm(X_train, y_train_, X_test, y_test_),\n",
    "                                        train_and_evaluate_tree(X_train, y_train_, X_test, y_test_),\n",
    "                                        train_and_evaluate_knn(X_train, y_train_, X_test, y_test_),\n",
    "                                        train_and_evaluate_forest(X_train, y_train_, X_test, y_test_),\n",
    "                                        train_and_evaluate_neural(X_train, y_train_, X_test, y_test_),\n",
    "                                        train_and_evaluate_boost(X_train, y_train_, X_test, y_test_)])\n",
    "\n"
   ]
  },
  {
   "cell_type": "code",
   "execution_count": null,
   "id": "8b0570e5",
   "metadata": {},
   "outputs": [],
   "source": [
    "result_dic_list_Outcome_InhospitalMortality = dict(zip(['logistic_regression', 'svm', 'tree', 'knn', 'forest', 'neural', 'boost'], list_Outcome_InhospitalMortality))\n"
   ]
  },
  {
   "cell_type": "code",
   "execution_count": null,
   "id": "3e1e925f",
   "metadata": {},
   "outputs": [],
   "source": [
    "\n",
    "merged_dict = {}\n",
    "\n",
    "# List of dictionary names and their corresponding dictionaries\n",
    "dict_list = [('Outcome_InhospitalMortality', result_dic_list_Outcome_InhospitalMortality)]\n",
    "\n",
    "# Merge the dictionaries\n",
    "for name, result_dict in dict_list:\n",
    "    merged_dict[name] = result_dict\n",
    "\n",
    "# The merged_dict now contains all the dictionaries merged together"
   ]
  },
  {
   "cell_type": "code",
   "execution_count": null,
   "id": "0ed56e8a",
   "metadata": {},
   "outputs": [],
   "source": [
    "merged_dict"
   ]
  },
  {
   "cell_type": "code",
   "execution_count": null,
   "id": "34c7b18e",
   "metadata": {},
   "outputs": [],
   "source": [
    "import pandas as pd\n",
    "\n",
    "\n",
    "df = pd.DataFrame(merged_dict)\n",
    "\n",
    "\n",
    "df = df.transpose()\n",
    "\n",
    "\n",
    "df.reset_index(inplace=True)\n",
    "df.rename(columns={'index': 'Method'}, inplace=True)\n",
    "\n"
   ]
  },
  {
   "cell_type": "code",
   "execution_count": null,
   "id": "5c5c1bbc",
   "metadata": {},
   "outputs": [],
   "source": [
    "df"
   ]
  },
  {
   "cell_type": "code",
   "execution_count": null,
   "id": "a1f5aee4",
   "metadata": {},
   "outputs": [],
   "source": [
    "data = []\n",
    "\n",
    "for outcome, models in merged_dict.items():\n",
    "    for model, metrics in models.items():\n",
    "        accuracy, precision, recall, specificity, f1 = metrics[0]['accuracy'], metrics[0]['precision'], metrics[0]['recall'], metrics[0]['specificity'], metrics[0]['f1']\n",
    "        y_true, y_predicted = metrics[1]['y_true'], metrics[1]['y_predicted']\n",
    "        data.append([outcome, model, accuracy, precision, recall, specificity, f1, y_true.tolist(), y_predicted.tolist()])\n",
    "\n",
    "columns = ['Outcome', 'Model', 'Accuracy', 'Precision', 'Recall', 'Specificity', 'F1', 'y_true', 'y_predicted']\n",
    "\n",
    "df = pd.DataFrame(data, columns=columns)\n"
   ]
  },
  {
   "cell_type": "code",
   "execution_count": null,
   "id": "30422537",
   "metadata": {},
   "outputs": [],
   "source": [
    "df"
   ]
  }
 ],
 "metadata": {
  "accelerator": "GPU",
  "colab": {
   "gpuType": "T4",
   "provenance": []
  },
  "hide_input": false,
  "kernelspec": {
   "display_name": "Python 3 (ipykernel)",
   "language": "python",
   "name": "python3"
  },
  "language_info": {
   "codemirror_mode": {
    "name": "ipython",
    "version": 3
   },
   "file_extension": ".py",
   "mimetype": "text/x-python",
   "name": "python",
   "nbconvert_exporter": "python",
   "pygments_lexer": "ipython3",
   "version": "3.11.5"
  },
  "toc": {
   "base_numbering": 1,
   "nav_menu": {},
   "number_sections": true,
   "sideBar": true,
   "skip_h1_title": false,
   "title_cell": "Table of Contents",
   "title_sidebar": "Contents",
   "toc_cell": false,
   "toc_position": {
    "height": "calc(100% - 180px)",
    "left": "10px",
    "top": "150px",
    "width": "275.341px"
   },
   "toc_section_display": true,
   "toc_window_display": true
  },
  "varInspector": {
   "cols": {
    "lenName": 16,
    "lenType": 16,
    "lenVar": 40
   },
   "kernels_config": {
    "python": {
     "delete_cmd_postfix": "",
     "delete_cmd_prefix": "del ",
     "library": "var_list.py",
     "varRefreshCmd": "print(var_dic_list())"
    },
    "r": {
     "delete_cmd_postfix": ") ",
     "delete_cmd_prefix": "rm(",
     "library": "var_list.r",
     "varRefreshCmd": "cat(var_dic_list()) "
    }
   },
   "types_to_exclude": [
    "module",
    "function",
    "builtin_function_or_method",
    "instance",
    "_Feature"
   ],
   "window_display": false
  }
 },
 "nbformat": 4,
 "nbformat_minor": 5
}

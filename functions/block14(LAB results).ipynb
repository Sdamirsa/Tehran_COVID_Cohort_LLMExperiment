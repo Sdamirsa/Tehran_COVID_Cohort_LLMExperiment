{
 "cells": [
  {
   "cell_type": "code",
   "execution_count": 1,
   "id": "4817c83c",
   "metadata": {},
   "outputs": [],
   "source": [
    "import pandas as pd\n",
    "import numpy as np"
   ]
  },
  {
   "cell_type": "code",
   "execution_count": 2,
   "id": "6e1eba88",
   "metadata": {},
   "outputs": [],
   "source": [
    "df= pd.read_excel(\"ClincolabratoryAll_Labeled_Cleaned_Anonynimized.xlsx\")\n",
    "block14 = df.loc[: , 'LAB_WBC_1':'LAB_SARSCOV2RDRP_First']"
   ]
  },
  {
   "cell_type": "code",
   "execution_count": null,
   "id": "33df550b",
   "metadata": {},
   "outputs": [],
   "source": [
    "#data haye in filo clean kardam faghat nemidoonam kodoom ha ro drop konam va oon haii ke kaman ro chejoori fill konam.\n",
    "#to ye in dataset meyari vojood dare baraye in kar???"
   ]
  }
 ],
 "metadata": {
  "kernelspec": {
   "display_name": "Python 3",
   "language": "python",
   "name": "python3"
  },
  "language_info": {
   "codemirror_mode": {
    "name": "ipython",
    "version": 3
   },
   "file_extension": ".py",
   "mimetype": "text/x-python",
   "name": "python",
   "nbconvert_exporter": "python",
   "pygments_lexer": "ipython3",
   "version": "3.8.8"
  }
 },
 "nbformat": 4,
 "nbformat_minor": 5
}

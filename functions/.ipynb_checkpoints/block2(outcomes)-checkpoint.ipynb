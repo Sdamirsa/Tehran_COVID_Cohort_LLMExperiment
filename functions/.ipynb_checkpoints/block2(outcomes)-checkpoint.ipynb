{
 "cells": [
  {
   "cell_type": "code",
   "execution_count": 2,
   "id": "daa7a850",
   "metadata": {},
   "outputs": [],
   "source": [
    "import pandas as pd\n",
    "import numpy as np"
   ]
  },
  {
   "cell_type": "code",
   "execution_count": null,
   "id": "ac0183c5",
   "metadata": {},
   "outputs": [],
   "source": [
    "df= pd.read_excel(\"ClincolabratoryAll_Labeled_Cleaned_Anonynimized.xlsx\")\n",
    "block2 = df.loc[1: , 'Outcome_InhospitalMortality':'Outcome_ICULOS']"
   ]
  },
  {
   "cell_type": "code",
   "execution_count": null,
   "id": "5e634c31",
   "metadata": {},
   "outputs": [],
   "source": [
    "block2.head()"
   ]
  },
  {
   "cell_type": "code",
   "execution_count": null,
   "id": "a4e38624",
   "metadata": {},
   "outputs": [],
   "source": [
    "def fun2(info):\n",
    "    if info[0]=='Died':\n",
    "        a=\"patient Died. \"\n",
    "    elif info[0]=='Survived':\n",
    "        a=\"patient Survived. \"\n",
    "    elif info[0]=='Unknown':\n",
    "        a=\"patient outcome is Unknown. \"\n",
    "    \n",
    "    b = \"Lentgh of Stay in hospital is \"+str(info[1])+\" days. \"\n",
    "\n",
    "    if info[2]=='1':\n",
    "        c = \"patient had ICU Admission, even one day \"\n",
    "    elif info[2]=='0':\n",
    "        c = \"patient did not have ICU Admission, even one day. \"\n",
    "\n",
    "    if info[3]=='0' or info[3]== 'NAN':\n",
    "        d= 'patient did not stay in ICU'\n",
    "    else:\n",
    "        d = \"Lentgh of Stay at ICU is \"+str(info[3])+\" days. \"\n",
    "    return(a+b+c+d)\n",
    "    \n",
    "    \n",
    "lis2=[]\n",
    "for i in block2.index:\n",
    "    if i!=0:\n",
    "        lis = []\n",
    "        for a in block2.loc[i , : ]:\n",
    "            lis.append(str(a))\n",
    "        v=fun2(lis)\n",
    "        lis2.append(v)\n",
    "\n",
    "print(lis2)"
   ]
  },
  {
   "cell_type": "code",
   "execution_count": null,
   "id": "a51d363a",
   "metadata": {},
   "outputs": [],
   "source": [
    "for i in lis2:\n",
    "    print(i)"
   ]
  },
  {
   "cell_type": "code",
   "execution_count": null,
   "id": "6f1047c4",
   "metadata": {},
   "outputs": [],
   "source": []
  }
 ],
 "metadata": {
  "kernelspec": {
   "display_name": "Python 3",
   "language": "python",
   "name": "python3"
  },
  "language_info": {
   "codemirror_mode": {
    "name": "ipython",
    "version": 3
   },
   "file_extension": ".py",
   "mimetype": "text/x-python",
   "name": "python",
   "nbconvert_exporter": "python",
   "pygments_lexer": "ipython3",
   "version": "3.8.8"
  }
 },
 "nbformat": 4,
 "nbformat_minor": 5
}

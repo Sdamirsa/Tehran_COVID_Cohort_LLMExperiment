{
 "cells": [
  {
   "cell_type": "code",
   "execution_count": 1,
   "metadata": {},
   "outputs": [],
   "source": [
    "import pandas as pd\n",
    "import numpy as np\n",
    "from sklearn.model_selection import train_test_split"
   ]
  },
  {
   "cell_type": "markdown",
   "metadata": {},
   "source": [
    "# Train and Test sets"
   ]
  },
  {
   "cell_type": "markdown",
   "metadata": {},
   "source": [
    "## Training set (imputing and normalizing)"
   ]
  },
  {
   "cell_type": "code",
   "execution_count": 2,
   "metadata": {},
   "outputs": [],
   "source": [
    "df = pd.read_excel(\"3 - changing column names for LLM.xlsx\")"
   ]
  },
  {
   "cell_type": "code",
   "execution_count": 3,
   "metadata": {},
   "outputs": [],
   "source": [
    "# ooutcome columns: 1.are Outcome_InhospitalMortality 2.TM_S_Intubation  3.Outcome_ICUadmission  4.TM_S_Dialysis\n",
    "df = df.dropna(subset=['Inhospital Mortality','ICU admission','Intubation','Dialysis'])"
   ]
  },
  {
   "cell_type": "code",
   "execution_count": 4,
   "metadata": {},
   "outputs": [],
   "source": [
    "#inja oomadim va external validation ro freeze kardim\n",
    "df_internal_validation = df[df['Patient_Hospital']!=\"Hospital2\"]\n",
    "df_external_validation = df[df['Patient_Hospital']==\"Hospital2\"]\n",
    "df_internal_validation = df_internal_validation.drop(columns=['Patient_Hospital'])\n",
    "df_external_validation = df_external_validation.drop(columns=['Patient_Hospital'])"
   ]
  },
  {
   "cell_type": "code",
   "execution_count": 5,
   "metadata": {},
   "outputs": [],
   "source": [
    "#inja train test split kardim va target variable ro jodakardim\n",
    "# Define features (X) and target variable (y)\n",
    "X = df_internal_validation.drop(columns=['Inhospital Mortality','ICU admission','Intubation','Dialysis'])\n",
    "y  = df_internal_validation[['Inhospital Mortality','ICU admission','Intubation','Dialysis']]\n",
    "# Perform the train-test split (adjust the test_size as needed)\n",
    "X_train , X_test , y_train , y_test = train_test_split(X,y , test_size = 0.2 , random_state = 42)"
   ]
  },
  {
   "cell_type": "code",
   "execution_count": 6,
   "metadata": {},
   "outputs": [],
   "source": [
    "#inja miaim va data haye categorical va numerical ro moshakhas mikonim ke bade knn categorical ha ro round konim\n",
    "cat_col=[]\n",
    "num_col=[]\n",
    "for i in range(len(X_train.columns)):\n",
    "    if i <=52:\n",
    "        cat_col.append(X_train.columns[i])\n",
    "    else:\n",
    "        num_col.append(X_train.columns[i])\n"
   ]
  },
  {
   "cell_type": "code",
   "execution_count": 7,
   "metadata": {},
   "outputs": [],
   "source": [
    "from sklearn.impute import KNNImputer\n",
    "X_train_array  =X_train.to_numpy()\n",
    "imputer = KNNImputer(n_neighbors=5, weights=\"uniform\")\n",
    "imputed = imputer.fit_transform(X_train_array)"
   ]
  },
  {
   "cell_type": "code",
   "execution_count": 8,
   "metadata": {},
   "outputs": [],
   "source": [
    "df_imputed = pd.DataFrame(imputed)\n",
    "df_imputed.columns=pd.DataFrame(X_train).columns.tolist()\n"
   ]
  },
  {
   "cell_type": "code",
   "execution_count": 9,
   "metadata": {},
   "outputs": [],
   "source": [
    "for i in cat_col:\n",
    "    df_imputed[[i]] = df_imputed[[i]].round()"
   ]
  },
  {
   "cell_type": "code",
   "execution_count": 10,
   "metadata": {},
   "outputs": [],
   "source": [
    "df_imputed.reset_index(drop=True, inplace=True)\n",
    "y_train.reset_index(drop=True, inplace=True)"
   ]
  },
  {
   "cell_type": "code",
   "execution_count": 11,
   "metadata": {},
   "outputs": [],
   "source": [
    "X_train = df_imputed"
   ]
  },
  {
   "cell_type": "markdown",
   "metadata": {},
   "source": [
    "## Test set (imputing and normalizing)"
   ]
  },
  {
   "cell_type": "code",
   "execution_count": 12,
   "metadata": {},
   "outputs": [],
   "source": [
    "#inja miaim va data haye categorical va numerical ro moshakhas mikonim ke bade knn categorical ha ro round konim\n",
    "cat_col=[]\n",
    "num_col=[]\n",
    "for i in range(len(X_test.columns)):\n",
    "    if i <=52:\n",
    "        cat_col.append(X_test.columns[i])\n",
    "    else:\n",
    "        num_col.append(X_test.columns[i])\n"
   ]
  },
  {
   "cell_type": "code",
   "execution_count": 13,
   "metadata": {},
   "outputs": [],
   "source": [
    "from sklearn.impute import KNNImputer\n",
    "X_test_array  =X_test.to_numpy()\n",
    "imputer = KNNImputer(n_neighbors=5, weights=\"uniform\")\n",
    "imputed_test = imputer.fit_transform(X_test_array)"
   ]
  },
  {
   "cell_type": "code",
   "execution_count": 14,
   "metadata": {},
   "outputs": [],
   "source": [
    "df_imputed_test = pd.DataFrame(imputed_test)\n",
    "df_imputed_test.columns=pd.DataFrame(X_test).columns.tolist()\n"
   ]
  },
  {
   "cell_type": "code",
   "execution_count": 15,
   "metadata": {},
   "outputs": [],
   "source": [
    "for i in cat_col:\n",
    "    df_imputed_test[[i]] = df_imputed_test[[i]].round()"
   ]
  },
  {
   "cell_type": "code",
   "execution_count": 16,
   "metadata": {},
   "outputs": [],
   "source": [
    "df_imputed_test.reset_index(drop=True, inplace=True)\n",
    "y_test.reset_index(drop=True, inplace=True)"
   ]
  },
  {
   "cell_type": "code",
   "execution_count": 17,
   "metadata": {},
   "outputs": [],
   "source": [
    "X_test = df_imputed_test"
   ]
  },
  {
   "cell_type": "code",
   "execution_count": 115,
   "metadata": {},
   "outputs": [],
   "source": [
    "#X_test.to_excel(\"X_test without negative imputed for LLM.xlsx\",index=False)"
   ]
  },
  {
   "cell_type": "code",
   "execution_count": 19,
   "metadata": {},
   "outputs": [],
   "source": [
    "import pandas as pd\n",
    "\n",
    "#data = pd.read_excel(\"X_test without negative imputed for LLM.xlsx\")\n",
    "\n",
    "data = X_test\n",
    "df = data\n",
    "\n",
    "\n",
    "\n",
    "# Replace values based on conditions\n",
    "df['O2 saturation without supply'] = df['O2 saturation without supply'].apply(lambda x: 'normal' if  x >= 95 else 'Lower' )\n",
    "df['pulse rate'] = df['pulse rate'].apply(lambda x: 'Higher' if  x > 80 else ('Lower' if x <= 60 else 'Normal'))\n",
    "df['diastolic Blood pressure'] = df['diastolic Blood pressure'].apply(lambda x: 'Higher' if x >= 80 else 'normal')\n",
    "df['Systolic Blood pressure'] = df['Systolic Blood pressure'].apply(lambda x: 'Higher' if x >= 120 else 'normal')\n",
    "df['respiratory rate'] = df['respiratory rate'].apply(lambda x: 'Higher' if x >= 18 else ('Lower' if x <= 12 else 'Normal'))\n",
    "df['Temperature'] = df['Temperature'].apply(lambda x: 'Higher' if x >= 37.2 else ('Lower' if x <= 36.1 else 'Normal'))\n",
    "df['WBC'] = df['WBC'].apply(lambda x: 'Higher' if x >= 9.5 else ('Lower' if x <= 3.5 else 'Normal'))\n",
    "df[' Lymphocyte count'] = df[' Lymphocyte count'].apply(lambda x: 'Higher' if x >= 50 else ('Lower' if x <= 20 else 'Normal'))\n",
    "df[' Neutrophils percentage'] = df[' Neutrophils percentage'].apply(lambda x: 'Higher' if  x >= 75 else ('Lower' if x <= 40 else 'Normal'))\n",
    "df['Platelets '] = df['Platelets '].apply(lambda x: 'Higher' if  x >= 450 else ('Lower' if x <= 150 else 'Normal'))\n",
    "df['Hemoglobin'] = df['Hemoglobin'].apply(lambda x: 'Higher' if  x >= 17 else ('Lower' if x <= 13 else 'Normal'))\n",
    "df['MCV'] = df['MCV'].apply(lambda x: 'Higher' if  x >= 100 else ('Lower' if x <= 80 else 'Normal'))\n",
    "df['CR'] = df['CR'].apply(lambda x: 'Higher' if  x >= 1.2 else ('Lower' if x <= 0.5 else 'Normal'))\n",
    "df['sodium'] = df['sodium'].apply(lambda x: 'Higher' if  x >= 145 else ('Lower' if x <= 135 else 'Normal'))\n",
    "df['potassium'] = df['potassium'].apply(lambda x: 'Higher' if  x >= 5.1 else ('Lower' if x <= 3.5 else 'Normal'))\n",
    "df['alkaline phosphatase'] = df['alkaline phosphatase'].apply(lambda x: 'Higher' if  x >= 147 else ('Lower' if x <= 44 else 'Normal'))\n",
    "df['ESR'] = df['ESR'].apply(lambda x: 'Lower' if  x <= 15 else 'Higher' )\n",
    "df['CPK'] = df['CPK'].apply(lambda x: 'Lower' if  x <= 200 else 'Higher' )\n",
    "df['PTT'] = df['PTT'].apply(lambda x: 'Higher' if  x >= 40 else ('Lower' if x <= 30 else 'Normal'))\n",
    "df['PT'] = df['PT'].apply(lambda x: 'Higher' if  x >= 12.5 else ('Lower' if x <= 11 else 'Normal'))\n",
    "\n",
    "\n",
    "\n"
   ]
  },
  {
   "cell_type": "code",
   "execution_count": 20,
   "metadata": {},
   "outputs": [],
   "source": [
    "pd.DataFrame(df)\n",
    "main_xtrain = df"
   ]
  },
  {
   "cell_type": "markdown",
   "metadata": {},
   "source": [
    "# یبار بیاییم و یه دیتاست با فقط اون هایی که پرزنت هستند بسازیم و یبار هم با اونا و هم با اونایی که پرزنت نیستن"
   ]
  },
  {
   "cell_type": "markdown",
   "metadata": {},
   "source": [
    "# gender and blood group"
   ]
  },
  {
   "cell_type": "code",
   "execution_count": 21,
   "metadata": {},
   "outputs": [],
   "source": [
    "main_xtrain[\"Gender\"] = main_xtrain[\"Gender\"].replace(0 , \"female\")\n",
    "main_xtrain[\"Gender\"] = main_xtrain[\"Gender\"].replace(1 , \"male\")\n"
   ]
  },
  {
   "cell_type": "code",
   "execution_count": 22,
   "metadata": {},
   "outputs": [],
   "source": [
    "main_xtrain[\"Blood Group\"] = main_xtrain[\"Blood Group\"].replace(0 , \"(A)\")\n",
    "main_xtrain[\"Blood Group\"] = main_xtrain[\"Blood Group\"].replace(1 , \"(B)\")\n",
    "main_xtrain[\"Blood Group\"] = main_xtrain[\"Blood Group\"].replace(2 , \"(O)\")\n",
    "main_xtrain[\"Blood Group\"] = main_xtrain[\"Blood Group\"].replace(3 , \"(AB)\")\n",
    "main_xtrain[\"Blood Group\"] = main_xtrain[\"Blood Group\"].replace(4 , \"(A+)\")\n",
    "main_xtrain[\"Blood Group\"] = main_xtrain[\"Blood Group\"].replace(5 , \"(A-)\")\n",
    "main_xtrain[\"Blood Group\"] = main_xtrain[\"Blood Group\"].replace(6 , \"(B+)\")\n",
    "main_xtrain[\"Blood Group\"] = main_xtrain[\"Blood Group\"].replace(7 , \"(B-)\")\n",
    "main_xtrain[\"Blood Group\"] = main_xtrain[\"Blood Group\"].replace(8 , \"(AB+)\")\n",
    "main_xtrain[\"Blood Group\"] = main_xtrain[\"Blood Group\"].replace(9 , \"(AB-)\")\n",
    "main_xtrain[\"Blood Group\"] = main_xtrain[\"Blood Group\"].replace(10 , \"(O+)\")\n",
    "main_xtrain[\"Blood Group\"] = main_xtrain[\"Blood Group\"].replace(11 , \"(O-)\")\n",
    "main_xtrain[\"Blood Group\"] = \"blood group is \"+main_xtrain[\"Blood Group\"]+\". \""
   ]
  },
  {
   "cell_type": "code",
   "execution_count": 23,
   "metadata": {},
   "outputs": [],
   "source": [
    "main_xtrain[\"Blood Group& gender\"]  = main_xtrain[\"Gender\"]+\". \"+main_xtrain[\"Blood Group\"] "
   ]
  },
  {
   "cell_type": "markdown",
   "metadata": {},
   "source": [
    "# Symptomps"
   ]
  },
  {
   "cell_type": "code",
   "execution_count": 24,
   "metadata": {},
   "outputs": [
    {
     "name": "stdout",
     "output_type": "stream",
     "text": [
      "0       present symptoms are: Caugh, Dyspnea, Fever, M...\n",
      "1       present symptoms are: loss of consciousness, H...\n",
      "2       present symptoms are: Caugh, Dyspnea, Fever, C...\n",
      "3                   present symptoms are: Fever, Chiver. \n",
      "4                present symptoms are: Dyspnea, Mylagia. \n",
      "                              ...                        \n",
      "1525    present symptoms are: Caugh, Dyspnea, Fever, C...\n",
      "1526    present symptoms are: Dyspnea, nausea/Vomit, C...\n",
      "1527    present symptoms are: Caugh, Dyspnea, Fever, W...\n",
      "1528    present symptoms are: Dyspnea, Fever, Chiver, ...\n",
      "1529    present symptoms are: Caugh, Dyspnea, Mylagia,...\n",
      "Name: symptomps, Length: 1530, dtype: object\n"
     ]
    }
   ],
   "source": [
    "df.loc[: , 'Caugh':'Hemiparesia' ]\n",
    "# symptomps\n",
    "\n",
    "df =pd.DataFrame(df.loc[: , 'Caugh':'Hemiparesia' ])\n",
    "# Initialize an empty list to store the output strings for each row\n",
    "output_strings = []\n",
    "\n",
    "# Iterate through the rows of the DataFrame\n",
    "for index, row in df.iterrows():\n",
    "    present = [col for col in row.index if row[col] == 1]\n",
    "    not_present = [col for col in row.index if row[col] == 0]\n",
    "    present_str = \"present symptoms are: \"+\", \".join(present)  if present else \"\"\n",
    "\n",
    "    result_str = f\"{present_str}. \"\n",
    "    output_strings.append(result_str)\n",
    "\n",
    "# Add the output strings as a new column in the DataFrame\n",
    "main_xtrain['symptomps'] = output_strings\n",
    "\n",
    "# Display the resulting DataFrame\n",
    "print(main_xtrain['symptomps'])\n"
   ]
  },
  {
   "cell_type": "markdown",
   "metadata": {},
   "source": [
    "# Past medical history"
   ]
  },
  {
   "cell_type": "code",
   "execution_count": 25,
   "metadata": {},
   "outputs": [
    {
     "name": "stdout",
     "output_type": "stream",
     "text": [
      "                                   Past medical history\n",
      "0                                                    . \n",
      "1     past medical history: hypertension, Ashtma, di...\n",
      "2     past medical history: hypertension, coronary a...\n",
      "3     past medical history: hypertension, ischemic h...\n",
      "4                                                    . \n",
      "...                                                 ...\n",
      "1525                 past medical history: Opium user. \n",
      "1526  past medical history: hypertension, cerebral v...\n",
      "1527               past medical history: hypertension. \n",
      "1528                                                 . \n",
      "1529                     past medical history: Ashtma. \n",
      "\n",
      "[1530 rows x 1 columns]\n"
     ]
    }
   ],
   "source": [
    "df = main_xtrain\n",
    "\n",
    "#Past Medical History\n",
    "\n",
    "df =pd.DataFrame(df.loc[: , 'Pregnancy':'Alzhimer' ])\n",
    "# Initialize an empty list to store the output strings for each row\n",
    "output_strings = []\n",
    "\n",
    "# Iterate through the rows of the DataFrame\n",
    "for index, row in df.iterrows():\n",
    "    present = [col for col in row.index if row[col] == 1]\n",
    "    not_present = [col for col in row.index if row[col] == 0]\n",
    "    present_str = \"past medical history: \"+\", \".join(present)  if present else \"\"\n",
    "\n",
    "    result_str = f\"{present_str}. \"\n",
    "    output_strings.append(result_str)\n",
    "\n",
    "# Add the output strings as a new column in the DataFrame\n",
    "main_xtrain['Past medical history'] = output_strings\n",
    "\n",
    "# Display the resulting DataFrame\n",
    "print(main_xtrain[['Past medical history']])\n"
   ]
  },
  {
   "cell_type": "code",
   "execution_count": 26,
   "metadata": {},
   "outputs": [],
   "source": [
    "main_xtrain = main_xtrain.loc[: , 'symptom to referral':'Past medical history']"
   ]
  },
  {
   "cell_type": "code",
   "execution_count": 27,
   "metadata": {},
   "outputs": [],
   "source": [
    "main_xtrain['symptom to referral'] = \"The time from symptom onset to referral spans \" + main_xtrain['symptom to referral'].astype(str) + \" days.\""
   ]
  },
  {
   "cell_type": "markdown",
   "metadata": {},
   "source": [
    "# lab test"
   ]
  },
  {
   "cell_type": "code",
   "execution_count": 28,
   "metadata": {},
   "outputs": [],
   "source": [
    "\n",
    "\n",
    "df = pd.DataFrame(main_xtrain.loc[: , 'O2 saturation without supply': 'PT'])\n",
    "\n",
    "def create_custom_string(row):\n",
    "    custom_strings = []\n",
    "    for col in row.index:\n",
    "        if row[col] == \"Normal\":\n",
    "            custom_strings.append(f\"{col} is in normal range. \")\n",
    "        else:\n",
    "            custom_strings.append(f\"{col} is lower than normal range. \" if row[col] == \"Lower\" else f\"{col} is higher than normal range.\")\n",
    "    return \" \".join(custom_strings)\n",
    "\n",
    "df[\"labratory data\"] = df.apply(create_custom_string, axis=1)\n",
    "\n",
    "main_xtrain[\"labratory data\"] = df[\"labratory data\"]\n"
   ]
  },
  {
   "cell_type": "code",
   "execution_count": 29,
   "metadata": {},
   "outputs": [],
   "source": [
    "main_xtrain = main_xtrain.loc[: , 'Age': 'labratory data']"
   ]
  },
  {
   "cell_type": "markdown",
   "metadata": {},
   "source": [
    "# Age"
   ]
  },
  {
   "cell_type": "code",
   "execution_count": 30,
   "metadata": {},
   "outputs": [],
   "source": [
    "main_xtrain[\"Age\"]= \"age is \"+main_xtrain[\"Age\"].astype(str)+ \" years. \""
   ]
  },
  {
   "cell_type": "markdown",
   "metadata": {},
   "source": [
    "# mortality"
   ]
  },
  {
   "cell_type": "code",
   "execution_count": 31,
   "metadata": {},
   "outputs": [],
   "source": [
    "mortality = []\n",
    "for i in y_test.loc[: ,\"Inhospital Mortality\"]:\n",
    "    if i == 1.0:\n",
    "        mortality.append('survives')\n",
    "    else:\n",
    "        mortality.append('dies')\n",
    "\n",
    "y_test.loc[: ,\"Inhospital Mortality\"] = mortality"
   ]
  },
  {
   "cell_type": "code",
   "execution_count": 32,
   "metadata": {},
   "outputs": [
    {
     "data": {
      "text/html": [
       "<div>\n",
       "<style scoped>\n",
       "    .dataframe tbody tr th:only-of-type {\n",
       "        vertical-align: middle;\n",
       "    }\n",
       "\n",
       "    .dataframe tbody tr th {\n",
       "        vertical-align: top;\n",
       "    }\n",
       "\n",
       "    .dataframe thead th {\n",
       "        text-align: right;\n",
       "    }\n",
       "</style>\n",
       "<table border=\"1\" class=\"dataframe\">\n",
       "  <thead>\n",
       "    <tr style=\"text-align: right;\">\n",
       "      <th></th>\n",
       "      <th>Inhospital Mortality</th>\n",
       "      <th>ICU admission</th>\n",
       "      <th>Intubation</th>\n",
       "      <th>Dialysis</th>\n",
       "    </tr>\n",
       "  </thead>\n",
       "  <tbody>\n",
       "    <tr>\n",
       "      <th>0</th>\n",
       "      <td>survives</td>\n",
       "      <td>0</td>\n",
       "      <td>0</td>\n",
       "      <td>0</td>\n",
       "    </tr>\n",
       "    <tr>\n",
       "      <th>1</th>\n",
       "      <td>survives</td>\n",
       "      <td>0</td>\n",
       "      <td>0</td>\n",
       "      <td>0</td>\n",
       "    </tr>\n",
       "    <tr>\n",
       "      <th>2</th>\n",
       "      <td>survives</td>\n",
       "      <td>0</td>\n",
       "      <td>0</td>\n",
       "      <td>0</td>\n",
       "    </tr>\n",
       "    <tr>\n",
       "      <th>3</th>\n",
       "      <td>survives</td>\n",
       "      <td>0</td>\n",
       "      <td>0</td>\n",
       "      <td>0</td>\n",
       "    </tr>\n",
       "    <tr>\n",
       "      <th>4</th>\n",
       "      <td>survives</td>\n",
       "      <td>0</td>\n",
       "      <td>0</td>\n",
       "      <td>0</td>\n",
       "    </tr>\n",
       "    <tr>\n",
       "      <th>...</th>\n",
       "      <td>...</td>\n",
       "      <td>...</td>\n",
       "      <td>...</td>\n",
       "      <td>...</td>\n",
       "    </tr>\n",
       "    <tr>\n",
       "      <th>1525</th>\n",
       "      <td>survives</td>\n",
       "      <td>0</td>\n",
       "      <td>0</td>\n",
       "      <td>0</td>\n",
       "    </tr>\n",
       "    <tr>\n",
       "      <th>1526</th>\n",
       "      <td>dies</td>\n",
       "      <td>0</td>\n",
       "      <td>0</td>\n",
       "      <td>0</td>\n",
       "    </tr>\n",
       "    <tr>\n",
       "      <th>1527</th>\n",
       "      <td>survives</td>\n",
       "      <td>0</td>\n",
       "      <td>0</td>\n",
       "      <td>0</td>\n",
       "    </tr>\n",
       "    <tr>\n",
       "      <th>1528</th>\n",
       "      <td>survives</td>\n",
       "      <td>1</td>\n",
       "      <td>0</td>\n",
       "      <td>0</td>\n",
       "    </tr>\n",
       "    <tr>\n",
       "      <th>1529</th>\n",
       "      <td>survives</td>\n",
       "      <td>0</td>\n",
       "      <td>0</td>\n",
       "      <td>0</td>\n",
       "    </tr>\n",
       "  </tbody>\n",
       "</table>\n",
       "<p>1530 rows × 4 columns</p>\n",
       "</div>"
      ],
      "text/plain": [
       "     Inhospital Mortality  ICU admission  Intubation  Dialysis\n",
       "0                survives              0           0         0\n",
       "1                survives              0           0         0\n",
       "2                survives              0           0         0\n",
       "3                survives              0           0         0\n",
       "4                survives              0           0         0\n",
       "...                   ...            ...         ...       ...\n",
       "1525             survives              0           0         0\n",
       "1526                 dies              0           0         0\n",
       "1527             survives              0           0         0\n",
       "1528             survives              1           0         0\n",
       "1529             survives              0           0         0\n",
       "\n",
       "[1530 rows x 4 columns]"
      ]
     },
     "execution_count": 32,
     "metadata": {},
     "output_type": "execute_result"
    }
   ],
   "source": [
    "y_test"
   ]
  },
  {
   "cell_type": "code",
   "execution_count": 33,
   "metadata": {},
   "outputs": [],
   "source": [
    "y_train_mortality = y_test.loc[: ,\"Inhospital Mortality\"]"
   ]
  },
  {
   "cell_type": "code",
   "execution_count": 34,
   "metadata": {},
   "outputs": [],
   "source": [
    "y_train_mortality = pd.DataFrame(y_train_mortality)"
   ]
  },
  {
   "cell_type": "code",
   "execution_count": 35,
   "metadata": {},
   "outputs": [],
   "source": [
    "main_xtrain= pd.concat([main_xtrain , y_train_mortality], axis=1)"
   ]
  },
  {
   "cell_type": "code",
   "execution_count": 36,
   "metadata": {},
   "outputs": [],
   "source": [
    "main_xtrain[\"patient medical hidtory\"] = main_xtrain[\"Age\"]+\" \"+main_xtrain[\"Blood Group& gender\"]+\" \"+main_xtrain[\"symptomps\"]+\" \"+ main_xtrain[\"Past medical history\"]+\" \"+main_xtrain[\"labratory data\"]"
   ]
  },
  {
   "cell_type": "code",
   "execution_count": 37,
   "metadata": {},
   "outputs": [],
   "source": [
    "final_train_dataset = pd.concat([main_xtrain[\"patient medical hidtory\"], y_train_mortality] , axis=1)"
   ]
  },
  {
   "cell_type": "code",
   "execution_count": 38,
   "metadata": {},
   "outputs": [
    {
     "data": {
      "text/html": [
       "<div>\n",
       "<style scoped>\n",
       "    .dataframe tbody tr th:only-of-type {\n",
       "        vertical-align: middle;\n",
       "    }\n",
       "\n",
       "    .dataframe tbody tr th {\n",
       "        vertical-align: top;\n",
       "    }\n",
       "\n",
       "    .dataframe thead th {\n",
       "        text-align: right;\n",
       "    }\n",
       "</style>\n",
       "<table border=\"1\" class=\"dataframe\">\n",
       "  <thead>\n",
       "    <tr style=\"text-align: right;\">\n",
       "      <th></th>\n",
       "      <th>patient medical hidtory</th>\n",
       "      <th>Inhospital Mortality</th>\n",
       "    </tr>\n",
       "  </thead>\n",
       "  <tbody>\n",
       "    <tr>\n",
       "      <th>0</th>\n",
       "      <td>age is 53.0 years.  male. blood group is (B+)....</td>\n",
       "      <td>survives</td>\n",
       "    </tr>\n",
       "    <tr>\n",
       "      <th>1</th>\n",
       "      <td>age is 72.0 years.  female. blood group is (A+...</td>\n",
       "      <td>survives</td>\n",
       "    </tr>\n",
       "    <tr>\n",
       "      <th>2</th>\n",
       "      <td>age is 75.0 years.  female. blood group is (A-...</td>\n",
       "      <td>survives</td>\n",
       "    </tr>\n",
       "    <tr>\n",
       "      <th>3</th>\n",
       "      <td>age is 54.0 years.  male. blood group is (AB+)...</td>\n",
       "      <td>survives</td>\n",
       "    </tr>\n",
       "    <tr>\n",
       "      <th>4</th>\n",
       "      <td>age is 50.0 years.  male. blood group is (B+)....</td>\n",
       "      <td>survives</td>\n",
       "    </tr>\n",
       "    <tr>\n",
       "      <th>...</th>\n",
       "      <td>...</td>\n",
       "      <td>...</td>\n",
       "    </tr>\n",
       "    <tr>\n",
       "      <th>1525</th>\n",
       "      <td>age is 73.0 years.  male. blood group is (AB)....</td>\n",
       "      <td>survives</td>\n",
       "    </tr>\n",
       "    <tr>\n",
       "      <th>1526</th>\n",
       "      <td>age is 83.0 years.  male. blood group is (A+)....</td>\n",
       "      <td>dies</td>\n",
       "    </tr>\n",
       "    <tr>\n",
       "      <th>1527</th>\n",
       "      <td>age is 75.0 years.  female. blood group is (B-...</td>\n",
       "      <td>survives</td>\n",
       "    </tr>\n",
       "    <tr>\n",
       "      <th>1528</th>\n",
       "      <td>age is 50.0 years.  male. blood group is (O+)....</td>\n",
       "      <td>survives</td>\n",
       "    </tr>\n",
       "    <tr>\n",
       "      <th>1529</th>\n",
       "      <td>age is 43.0 years.  female. blood group is (B+...</td>\n",
       "      <td>survives</td>\n",
       "    </tr>\n",
       "  </tbody>\n",
       "</table>\n",
       "<p>1530 rows × 2 columns</p>\n",
       "</div>"
      ],
      "text/plain": [
       "                                patient medical hidtory Inhospital Mortality\n",
       "0     age is 53.0 years.  male. blood group is (B+)....             survives\n",
       "1     age is 72.0 years.  female. blood group is (A+...             survives\n",
       "2     age is 75.0 years.  female. blood group is (A-...             survives\n",
       "3     age is 54.0 years.  male. blood group is (AB+)...             survives\n",
       "4     age is 50.0 years.  male. blood group is (B+)....             survives\n",
       "...                                                 ...                  ...\n",
       "1525  age is 73.0 years.  male. blood group is (AB)....             survives\n",
       "1526  age is 83.0 years.  male. blood group is (A+)....                 dies\n",
       "1527  age is 75.0 years.  female. blood group is (B-...             survives\n",
       "1528  age is 50.0 years.  male. blood group is (O+)....             survives\n",
       "1529  age is 43.0 years.  female. blood group is (B+...             survives\n",
       "\n",
       "[1530 rows x 2 columns]"
      ]
     },
     "execution_count": 38,
     "metadata": {},
     "output_type": "execute_result"
    }
   ],
   "source": [
    "final_train_dataset"
   ]
  },
  {
   "cell_type": "markdown",
   "metadata": {},
   "source": [
    "# Saving into excel and jsonl "
   ]
  },
  {
   "cell_type": "code",
   "execution_count": 39,
   "metadata": {},
   "outputs": [],
   "source": [
    "#final_train_dataset.to_excel(\"TEST dataset LLM classification.xlsx\", index= False)"
   ]
  }
 ],
 "metadata": {
  "kernelspec": {
   "display_name": "Python 3",
   "language": "python",
   "name": "python3"
  },
  "language_info": {
   "codemirror_mode": {
    "name": "ipython",
    "version": 3
   },
   "file_extension": ".py",
   "mimetype": "text/x-python",
   "name": "python",
   "nbconvert_exporter": "python",
   "pygments_lexer": "ipython3",
   "version": "3.11.5"
  }
 },
 "nbformat": 4,
 "nbformat_minor": 2
}

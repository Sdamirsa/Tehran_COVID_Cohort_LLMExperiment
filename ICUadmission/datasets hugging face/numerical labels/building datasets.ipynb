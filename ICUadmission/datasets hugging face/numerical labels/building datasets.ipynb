{
 "cells": [
  {
   "cell_type": "code",
   "execution_count": 1,
   "metadata": {},
   "outputs": [],
   "source": [
    "import pandas as pd\n",
    "from datasets import Dataset"
   ]
  },
  {
   "cell_type": "code",
   "execution_count": 14,
   "metadata": {},
   "outputs": [
    {
     "data": {
      "application/vnd.jupyter.widget-view+json": {
       "model_id": "dbf1675b0ca54b60aab8f23c9f004fe9",
       "version_major": 2,
       "version_minor": 0
      },
      "text/plain": [
       "Saving the dataset (0/1 shards):   0%|          | 0/6118 [00:00<?, ? examples/s]"
      ]
     },
     "metadata": {},
     "output_type": "display_data"
    }
   ],
   "source": [
    "# Step 1: Read Excel File\n",
    "excel_file = pd.read_excel('intenal LLM train.xlsx')\n",
    "\n",
    "# Step 2: Transform Data (if needed)\n",
    "\n",
    "# Step 3: Create Hugging Face Dataset\n",
    "intenal_test = Dataset.from_pandas(excel_file)\n",
    "\n",
    "# Step 4: Save the Dataset\n",
    "intenal_test.save_to_disk('internal_train')"
   ]
  },
  {
   "cell_type": "code",
   "execution_count": 7,
   "metadata": {},
   "outputs": [],
   "source": [
    "excel_file = pd.read_excel('exntenal LLM test.xlsx')\n",
    "final_train_dataset = excel_file.to_dict(orient=\"records\")\n",
    "import json\n",
    "\n",
    "with open(\"test.jsonl\", \"w\") as f:\n",
    "    for line in final_train_dataset:\n",
    "        f.write(json.dumps(line) + \"\\n\")"
   ]
  },
  {
   "cell_type": "code",
   "execution_count": null,
   "metadata": {},
   "outputs": [],
   "source": []
  }
 ],
 "metadata": {
  "kernelspec": {
   "display_name": "Python 3",
   "language": "python",
   "name": "python3"
  },
  "language_info": {
   "codemirror_mode": {
    "name": "ipython",
    "version": 3
   },
   "file_extension": ".py",
   "mimetype": "text/x-python",
   "name": "python",
   "nbconvert_exporter": "python",
   "pygments_lexer": "ipython3",
   "version": "3.11.5"
  }
 },
 "nbformat": 4,
 "nbformat_minor": 2
}

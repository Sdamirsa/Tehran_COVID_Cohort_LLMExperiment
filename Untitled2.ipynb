{
 "cells": [
  {
   "cell_type": "code",
   "execution_count": 2,
   "id": "f790b997",
   "metadata": {},
   "outputs": [
    {
     "name": "stdout",
     "output_type": "stream",
     "text": [
      "[(1, 'a', 12), (2, 'b', 22), (3, 'c', 32)]\n"
     ]
    }
   ],
   "source": [
    "# Using map() and lambda\n",
    "def listOfTuples(l1, l2,l3):\n",
    "\treturn list(map(lambda x, y,z:(x,y,z), l1, l2,l3))\n",
    "\n",
    "# Driver Code\n",
    "list1 = [1, 2, 3]\n",
    "list2 = ['a', 'b', 'c']\n",
    "list3 = [12, 22, 32]\n",
    "print(listOfTuples(list1, list2,list3))\n"
   ]
  },
  {
   "cell_type": "code",
   "execution_count": null,
   "id": "b73456b4",
   "metadata": {},
   "outputs": [],
   "source": []
  }
 ],
 "metadata": {
  "kernelspec": {
   "display_name": "Python 3",
   "language": "python",
   "name": "python3"
  },
  "language_info": {
   "codemirror_mode": {
    "name": "ipython",
    "version": 3
   },
   "file_extension": ".py",
   "mimetype": "text/x-python",
   "name": "python",
   "nbconvert_exporter": "python",
   "pygments_lexer": "ipython3",
   "version": "3.8.8"
  }
 },
 "nbformat": 4,
 "nbformat_minor": 5
}

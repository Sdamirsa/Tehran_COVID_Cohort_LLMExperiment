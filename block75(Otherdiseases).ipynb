{
 "cells": [
  {
   "cell_type": "code",
   "execution_count": 1,
   "id": "3d56067e",
   "metadata": {},
   "outputs": [],
   "source": [
    "import pandas as pd\n",
    "import numpy as np"
   ]
  },
  {
   "cell_type": "code",
   "execution_count": 2,
   "id": "c6914754",
   "metadata": {},
   "outputs": [],
   "source": [
    "df= pd.read_excel(\"ClincolabratoryAll_Labeled_Cleaned_Anonynimized.xlsx\")\n",
    "block75 = df.loc[: , 'MH_Otherdiseases']"
   ]
  },
  {
   "cell_type": "code",
   "execution_count": 3,
   "id": "2517a213",
   "metadata": {},
   "outputs": [],
   "source": [
    "#ino bayad farsi ha ro toshh teghir bedam va baad biaram"
   ]
  },
  {
   "cell_type": "code",
   "execution_count": null,
   "id": "02976197",
   "metadata": {},
   "outputs": [],
   "source": []
  }
 ],
 "metadata": {
  "kernelspec": {
   "display_name": "Python 3",
   "language": "python",
   "name": "python3"
  },
  "language_info": {
   "codemirror_mode": {
    "name": "ipython",
    "version": 3
   },
   "file_extension": ".py",
   "mimetype": "text/x-python",
   "name": "python",
   "nbconvert_exporter": "python",
   "pygments_lexer": "ipython3",
   "version": "3.8.8"
  }
 },
 "nbformat": 4,
 "nbformat_minor": 5
}

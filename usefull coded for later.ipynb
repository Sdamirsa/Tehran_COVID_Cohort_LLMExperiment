{
 "cells": [
  {
   "cell_type": "code",
   "execution_count": null,
   "id": "6ef493dc",
   "metadata": {},
   "outputs": [],
   "source": [
    "#data_falcon9.loc[:,'FlightNumber'] = list(range(1, data_falcon9.shape[0]+1))\n",
    "#برای اینکه بیاییم وشماره ی مریض ها رئو ریست کنم."
   ]
  },
  {
   "cell_type": "code",
   "execution_count": null,
   "id": "45be3e65",
   "metadata": {},
   "outputs": [],
   "source": [
    "#baraye inke addad haye tooye labtest ro be string tabsil konam va noghte hash ro ham dorost konam\n",
    "\n",
    "riginal_list = [\"9 34\", \"4 55\", 5.3, \"NAN\", \"NotinPhase\"]\n",
    "converted_list = []\n",
    "\n",
    "for item in original_list:\n",
    "    if isinstance(item, str) and \" \" in item:\n",
    "        converted_item = item.replace(\" \", \".\")\n",
    "        converted_list.append(converted_item)\n",
    "    else:\n",
    "        converted_list.append(str(item))\n",
    "\n",
    "print(converted_list)\n"
   ]
  }
 ],
 "metadata": {
  "kernelspec": {
   "display_name": "Python 3",
   "language": "python",
   "name": "python3"
  },
  "language_info": {
   "codemirror_mode": {
    "name": "ipython",
    "version": 3
   },
   "file_extension": ".py",
   "mimetype": "text/x-python",
   "name": "python",
   "nbconvert_exporter": "python",
   "pygments_lexer": "ipython3",
   "version": "3.8.8"
  }
 },
 "nbformat": 4,
 "nbformat_minor": 5
}

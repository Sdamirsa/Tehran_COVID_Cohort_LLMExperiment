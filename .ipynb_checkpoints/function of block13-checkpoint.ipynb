{
 "cells": [
  {
   "cell_type": "code",
   "execution_count": 1,
   "id": "66b91490",
   "metadata": {},
   "outputs": [],
   "source": [
    "#neveshtan codesh kari nadareh vali aslan chi dare migeh?"
   ]
  },
  {
   "cell_type": "code",
   "execution_count": null,
   "id": "fcc109db",
   "metadata": {},
   "outputs": [],
   "source": [
    "#VaccinatedC19infect_intervalday????"
   ]
  }
 ],
 "metadata": {
  "kernelspec": {
   "display_name": "Python 3",
   "language": "python",
   "name": "python3"
  },
  "language_info": {
   "codemirror_mode": {
    "name": "ipython",
    "version": 3
   },
   "file_extension": ".py",
   "mimetype": "text/x-python",
   "name": "python",
   "nbconvert_exporter": "python",
   "pygments_lexer": "ipython3",
   "version": "3.8.8"
  }
 },
 "nbformat": 4,
 "nbformat_minor": 5
}

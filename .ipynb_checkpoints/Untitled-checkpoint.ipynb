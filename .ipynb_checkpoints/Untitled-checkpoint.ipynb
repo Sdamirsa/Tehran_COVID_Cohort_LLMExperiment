{
 "cells": [
  {
   "cell_type": "code",
   "execution_count": 1,
   "id": "79d933a6",
   "metadata": {},
   "outputs": [],
   "source": [
    "import pandas as pd "
   ]
  },
  {
   "cell_type": "code",
   "execution_count": 2,
   "id": "e02fd940",
   "metadata": {},
   "outputs": [],
   "source": [
    "df = pd.read_excel(\"output_second.xlsx\")"
   ]
  },
  {
   "cell_type": "code",
   "execution_count": 22,
   "id": "7d531af4",
   "metadata": {},
   "outputs": [
    {
     "data": {
      "text/plain": [
       "0       85\n",
       "60      11\n",
       "1        4\n",
       "2986     2\n",
       "4075     1\n",
       "        ..\n",
       "2641     1\n",
       "2648     1\n",
       "2660     1\n",
       "2673     1\n",
       "4215     1\n",
       "Name: count, Length: 64, dtype: int64"
      ]
     },
     "execution_count": 22,
     "metadata": {},
     "output_type": "execute_result"
    }
   ],
   "source": [
    "df2 =  pd.DataFrame(df.isna().sum())\n",
    "\n",
    "df2.value_counts()\n"
   ]
  },
  {
   "cell_type": "code",
   "execution_count": 14,
   "id": "8cd5f20e",
   "metadata": {},
   "outputs": [
    {
     "data": {
      "text/html": [
       "<div>\n",
       "<style scoped>\n",
       "    .dataframe tbody tr th:only-of-type {\n",
       "        vertical-align: middle;\n",
       "    }\n",
       "\n",
       "    .dataframe tbody tr th {\n",
       "        vertical-align: top;\n",
       "    }\n",
       "\n",
       "    .dataframe thead th {\n",
       "        text-align: right;\n",
       "    }\n",
       "</style>\n",
       "<table border=\"1\" class=\"dataframe\">\n",
       "  <thead>\n",
       "    <tr style=\"text-align: right;\">\n",
       "      <th></th>\n",
       "      <th>0</th>\n",
       "    </tr>\n",
       "  </thead>\n",
       "  <tbody>\n",
       "    <tr>\n",
       "      <th>Outcome_InhospitalMortality</th>\n",
       "      <td>77</td>\n",
       "    </tr>\n",
       "    <tr>\n",
       "      <th>Outcome_LOS</th>\n",
       "      <td>1</td>\n",
       "    </tr>\n",
       "    <tr>\n",
       "      <th>Outcome_ICUadmission</th>\n",
       "      <td>0</td>\n",
       "    </tr>\n",
       "    <tr>\n",
       "      <th>Outcome_ICULOS</th>\n",
       "      <td>1</td>\n",
       "    </tr>\n",
       "    <tr>\n",
       "      <th>Demographic_Age</th>\n",
       "      <td>150</td>\n",
       "    </tr>\n",
       "    <tr>\n",
       "      <th>...</th>\n",
       "      <td>...</td>\n",
       "    </tr>\n",
       "    <tr>\n",
       "      <th>LAB_INR_First</th>\n",
       "      <td>4035</td>\n",
       "    </tr>\n",
       "    <tr>\n",
       "      <th>LAB_PH_Final</th>\n",
       "      <td>3290</td>\n",
       "    </tr>\n",
       "    <tr>\n",
       "      <th>LAB_HCO3_Final</th>\n",
       "      <td>3304</td>\n",
       "    </tr>\n",
       "    <tr>\n",
       "      <th>LAB_BE_Final</th>\n",
       "      <td>3537</td>\n",
       "    </tr>\n",
       "    <tr>\n",
       "      <th>LAB_BloodGroupABO_First</th>\n",
       "      <td>2348</td>\n",
       "    </tr>\n",
       "  </tbody>\n",
       "</table>\n",
       "<p>162 rows × 1 columns</p>\n",
       "</div>"
      ],
      "text/plain": [
       "                                0\n",
       "Outcome_InhospitalMortality    77\n",
       "Outcome_LOS                     1\n",
       "Outcome_ICUadmission            0\n",
       "Outcome_ICULOS                  1\n",
       "Demographic_Age               150\n",
       "...                           ...\n",
       "LAB_INR_First                4035\n",
       "LAB_PH_Final                 3290\n",
       "LAB_HCO3_Final               3304\n",
       "LAB_BE_Final                 3537\n",
       "LAB_BloodGroupABO_First      2348\n",
       "\n",
       "[162 rows x 1 columns]"
      ]
     },
     "execution_count": 14,
     "metadata": {},
     "output_type": "execute_result"
    }
   ],
   "source": [
    "pd.DataFrame(df.isna().sum())"
   ]
  },
  {
   "cell_type": "code",
   "execution_count": 24,
   "id": "6f11b86a",
   "metadata": {},
   "outputs": [
    {
     "name": "stdout",
     "output_type": "stream",
     "text": [
      "['Outcome_ICUadmission', 'Symptom_Caugh', 'Symptom_Dyspnea', 'Symptom_Fever', 'Symptom_Chiver', 'Symptom_Mylagia', 'Symptom_Weakness', 'Symptom_Sore through', 'Symptom_Rhinorrhea', 'Symptom_Smelling disorder', 'Symptom_nauseaVomit', 'Symptom_Anorexia', 'Symptom_Diarhhea', 'Symptom_ChestPain', 'Symptom_Seizure', 'Symptom_SkinLesion', 'Symptom_Jointpain', 'Symptom_Headache', 'Symptom_AbdominalPain', 'Symptom_Earpain', 'Symptom_Hemorrhasia', 'MH_CurremtSmoker', 'MH_Alcoholuser', 'MH_Opiumuser', 'MH_Hookahuser', 'MH_HTN', 'MH_IHD', 'MH_CABG', 'MH_CHF', 'MH_Ashtma', 'MH_COPD', 'MH_DM', 'MH_Pneumonia', 'MH_CVA', 'MH_GIdisorder', 'MH_CKD', 'MH_RA', 'Cancer', 'MH_HLP', 'MH_Hep C', 'MH_Thyroid dysfunction', 'MH_Immunocompromised', 'MH_ChronicSeizure', 'MH_TB', 'MH_Anemia', 'MH_Fattyliver', 'MH_Psychologicaldisorder', 'MH_Parkinson', 'MH_Alzhimer', 'TM_S_Dialysis', 'TM_S_Wholeblood', 'TM_S_FFP/Platelet', 'TM_S_Intubation', 'TM_S_Plasmapheresis', 'TM_amantadin', 'TM_ASA', 'TM_atazonavir', 'TM_Atrovent', 'TM_Bromhexine', 'TM_CaCo3', 'TM_Ceftriaxone', 'TM_Celexan', 'TM_Ciprofloxacine', 'TM_ClidiniumC', 'TM_Fluconazole', 'TM_Heparin', 'TM_imipenem', 'TM_Linezolid', 'TM_MgSo4', 'TM_NAC', 'TM_piperacillin', 'TM_Plasil', 'TM_Plavix', 'TM_Prednisolone', 'TM_Promethazine', 'TM_Pulmi', 'TM_Ranitidin', 'TM_Remdesivir', 'TM_Salb', 'TM_Selenium', 'TM_Serflow', 'TM_Vanco', 'TM_VitB', 'TM_VitC', 'TM_VitD']\n"
     ]
    }
   ],
   "source": [
    "# Find the indices of '1' values in the DataFrame\n",
    "indices_of_ones = df2[df2[0] == 0].index.tolist()\n",
    "\n",
    "# Print the list of indices\n",
    "print(indices_of_ones)"
   ]
  },
  {
   "cell_type": "code",
   "execution_count": 6,
   "id": "9458e043",
   "metadata": {},
   "outputs": [
    {
     "name": "stdout",
     "output_type": "stream",
     "text": [
      "          a\n",
      "0  1.000000\n",
      "1  1.000000\n",
      "2  3.571429\n",
      "3  4.000000\n",
      "4  4.000000\n",
      "5  7.000000\n",
      "6  7.000000\n",
      "7  3.571429\n",
      "8  3.571429\n",
      "9  1.000000\n"
     ]
    }
   ],
   "source": [
    "import pandas as pd\n",
    "import numpy as np\n",
    "from sklearn.impute import KNNImputer\n",
    "\n",
    "data = {\n",
    "    'a': [1, 1, np.nan, 4, 4, 7, 7, np.nan, np.nan, 1]\n",
    "}\n",
    "\n",
    "df = pd.DataFrame(data)\n",
    "\n",
    "# Create a KNNImputer with k=2 (you can adjust k as needed)\n",
    "knn_imputer = KNNImputer(n_neighbors=5)\n",
    "\n",
    "# Fit and transform the DataFrame to impute missing values\n",
    "imputed_df = knn_imputer.fit_transform(df)\n",
    "\n",
    "# Convert the imputed result back to a DataFrame\n",
    "imputed_df = pd.DataFrame(imputed_df, columns=df.columns)\n",
    "\n",
    "print(imputed_df)\n"
   ]
  },
  {
   "cell_type": "code",
   "execution_count": null,
   "id": "c05d7f21",
   "metadata": {},
   "outputs": [],
   "source": []
  }
 ],
 "metadata": {
  "kernelspec": {
   "display_name": "Python 3",
   "language": "python",
   "name": "python3"
  },
  "language_info": {
   "codemirror_mode": {
    "name": "ipython",
    "version": 3
   },
   "file_extension": ".py",
   "mimetype": "text/x-python",
   "name": "python",
   "nbconvert_exporter": "python",
   "pygments_lexer": "ipython3",
   "version": "3.8.8"
  }
 },
 "nbformat": 4,
 "nbformat_minor": 5
}

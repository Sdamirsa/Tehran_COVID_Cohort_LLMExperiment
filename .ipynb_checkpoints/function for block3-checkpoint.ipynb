{
 "cells": [
  {
   "cell_type": "code",
   "execution_count": 1,
   "id": "cc6a4a64",
   "metadata": {},
   "outputs": [],
   "source": [
    "import pandas as pd\n",
    "import numpy as np"
   ]
  },
  {
   "cell_type": "code",
   "execution_count": 2,
   "id": "d665e6d2",
   "metadata": {},
   "outputs": [],
   "source": [
    "df= pd.read_excel(\"ClincolabratoryAll_Labeled_Cleaned_Anonynimized.xlsx\")\n",
    "block3 = df.loc[: , 'Demographic_Age':'Demographic_Weight']"
   ]
  },
  {
   "cell_type": "code",
   "execution_count": 10,
   "id": "d1880df6",
   "metadata": {
    "scrolled": true
   },
   "outputs": [
    {
     "name": "stdout",
     "output_type": "stream",
     "text": [
      "9134\n"
     ]
    }
   ],
   "source": [
    "def fun3(info):\n",
    "\n",
    "    if info[0]==\"Null\" or info[0]=='0':\n",
    "        a =\"age is unavailable. \"\n",
    "    else:\n",
    "        a =\"patient age is \"+info[0]+\". \"\n",
    "        \n",
    "    if info[1]==\"Male\" or info[1]==\"1\":\n",
    "        b= \"gender is Male. \"\n",
    "    elif info[1]==\"Female\" or \"2\":\n",
    "        b = \"gender is Female. \"\n",
    "    else:\n",
    "        b= \"gender is not clear. \"\n",
    "\n",
    "    if info[2]=='NAN':\n",
    "        c = \" height is unavailable. \"\n",
    "    else:\n",
    "        c=\" height is \"+str(info[2])+\". \"\n",
    "        \n",
    "    if info[3]=='NAN':\n",
    "        d= ' weight is unavailable. '\n",
    "    else:\n",
    "        d = \"weight is \"+str(info[3])+\" Kilograms. \"\n",
    "    n=(a+b+c+d)\n",
    "    return(n)\n",
    "\n",
    "\n",
    "lis3=[]\n",
    "for i in block3.index:\n",
    "    if i!=0:\n",
    "        lis = []\n",
    "        for a in block3.loc[i , : ]:\n",
    "            lis.append(str(a))\n",
    "        v=fun3(lis)\n",
    "        lis3.append(v)\n",
    "\n",
    "print(len(lis3))\n",
    "\n",
    "\n"
   ]
  },
  {
   "cell_type": "code",
   "execution_count": null,
   "id": "0a38c999",
   "metadata": {},
   "outputs": [],
   "source": []
  },
  {
   "cell_type": "code",
   "execution_count": null,
   "id": "2b236263",
   "metadata": {},
   "outputs": [],
   "source": []
  }
 ],
 "metadata": {
  "kernelspec": {
   "display_name": "Python 3",
   "language": "python",
   "name": "python3"
  },
  "language_info": {
   "codemirror_mode": {
    "name": "ipython",
    "version": 3
   },
   "file_extension": ".py",
   "mimetype": "text/x-python",
   "name": "python",
   "nbconvert_exporter": "python",
   "pygments_lexer": "ipython3",
   "version": "3.8.8"
  }
 },
 "nbformat": 4,
 "nbformat_minor": 5
}

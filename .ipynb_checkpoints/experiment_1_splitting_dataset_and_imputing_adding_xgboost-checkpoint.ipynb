{
 "cells": [
  {
   "cell_type": "code",
   "execution_count": null,
   "id": "aa37cf1a",
   "metadata": {
    "id": "aa37cf1a"
   },
   "outputs": [],
   "source": [
    "import pandas as pd\n",
    "import numpy as np\n",
    "from sklearn.model_selection import train_test_split"
   ]
  },
  {
   "cell_type": "raw",
   "id": "02a26e93",
   "metadata": {
    "colab": {
     "base_uri": "https://localhost:8080/"
    },
    "id": "MaKAvFOG3Pei",
    "outputId": "c5184fab-cf27-4718-a625-d56b4148d302"
   },
   "source": [
    "from google.colab import drive\n",
    "drive.mount('/content/drive')"
   ]
  },
  {
   "cell_type": "raw",
   "id": "687867a2",
   "metadata": {
    "id": "crjK4C1K3Rn0"
   },
   "source": [
    "import os\n",
    "\n",
    "# Set the search parameters\n",
    "filename = \"3.xlsx\"\n",
    "search_path = '/content/drive/My Drive'\n",
    "\n",
    "# Search for the file\n",
    "for root, dirs, files in os.walk(search_path):\n",
    "    if filename in files:\n",
    "        file_path = os.path.join(root, filename)\n",
    "        break"
   ]
  },
  {
   "cell_type": "raw",
   "id": "41093536",
   "metadata": {
    "id": "p1Bjnwy73ZTk"
   },
   "source": [
    "import pandas as pd\n",
    "\n",
    "# Load the XLSX file into a DataFrame\n",
    "df = pd.read_excel(file_path)"
   ]
  },
  {
   "cell_type": "code",
   "execution_count": null,
   "id": "78e641ad",
   "metadata": {
    "id": "78e641ad"
   },
   "outputs": [],
   "source": [
    "df = pd.read_excel(\"3.xlsx\")"
   ]
  },
  {
   "cell_type": "code",
   "execution_count": null,
   "id": "31dd444f",
   "metadata": {
    "colab": {
     "base_uri": "https://localhost:8080/",
     "height": 255
    },
    "id": "31dd444f",
    "outputId": "4443d0a9-6836-40a9-917b-c88804ba69ed"
   },
   "outputs": [],
   "source": [
    "df.head()"
   ]
  },
  {
   "cell_type": "code",
   "execution_count": null,
   "id": "5aa2e9cb",
   "metadata": {
    "id": "5aa2e9cb"
   },
   "outputs": [],
   "source": [
    "# ooutcome columns: 1.are Outcome_InhospitalMortality 2.TM_S_Intubation  3.Outcome_ICUadmission  4.TM_S_Dialysis\n",
    "df = df.dropna(subset=['Outcome_InhospitalMortality', 'TM_S_Intubation', 'Outcome_ICUadmission','TM_S_Dialysis'])"
   ]
  },
  {
   "cell_type": "code",
   "execution_count": null,
   "id": "ea49b803",
   "metadata": {
    "id": "ea49b803"
   },
   "outputs": [],
   "source": [
    "#inja oomadim va external validation ro freeze kardim\n",
    "df_internal_validation = df[df['Patient_Hospital']!=\"Hospital2\"]\n",
    "df_external_validation = df[df['Patient_Hospital']==\"Hospital2\"]\n",
    "df_internal_validation = df_internal_validation.drop(columns=['Patient_Hospital'])\n",
    "df_external_validation = df_external_validation.drop(columns=['Patient_Hospital'])"
   ]
  },
  {
   "cell_type": "code",
   "execution_count": null,
   "id": "c8424ee1",
   "metadata": {
    "id": "c8424ee1"
   },
   "outputs": [],
   "source": [
    "#df.to_excel(\"excluding NAN.xlsx\", index=False)"
   ]
  },
  {
   "cell_type": "code",
   "execution_count": null,
   "id": "31d91627",
   "metadata": {
    "id": "31d91627"
   },
   "outputs": [],
   "source": [
    "#inja train test split kardim va target variable ro jodakardim\n",
    "# Define features (X) and target variable (y)\n",
    "X = df_internal_validation.drop(columns=['Outcome_InhospitalMortality', 'TM_S_Intubation', 'Outcome_ICUadmission','TM_S_Dialysis'])\n",
    "y  = df_internal_validation[['Outcome_InhospitalMortality', 'TM_S_Intubation', 'Outcome_ICUadmission','TM_S_Dialysis']]\n",
    "# Perform the train-test split (adjust the test_size as needed)\n",
    "X_train , X_test , y_train , y_test = train_test_split(X,y , test_size = 0.2 , random_state = 42)"
   ]
  },
  {
   "cell_type": "code",
   "execution_count": null,
   "id": "0ef14bff",
   "metadata": {
    "colab": {
     "base_uri": "https://localhost:8080/",
     "height": 423
    },
    "id": "0ef14bff",
    "outputId": "0479af27-b82e-4e67-8dcf-07640f1de66c"
   },
   "outputs": [],
   "source": [
    "y_train"
   ]
  },
  {
   "cell_type": "code",
   "execution_count": null,
   "id": "1c44e452",
   "metadata": {
    "colab": {
     "base_uri": "https://localhost:8080/",
     "height": 461
    },
    "id": "1c44e452",
    "outputId": "200f344b-e8ee-4c3b-b604-4420751fb01b"
   },
   "outputs": [],
   "source": [
    "X_train"
   ]
  },
  {
   "cell_type": "code",
   "execution_count": null,
   "id": "57c05e69",
   "metadata": {
    "id": "57c05e69"
   },
   "outputs": [],
   "source": [
    "#inja miaim va data haye categorical va numerical ro moshakhas mikonim ke bade knn categorical ha ro round konim\n",
    "cat_col=[]\n",
    "num_col=[]\n",
    "for i in range(len(X_train.columns)):\n",
    "    if i <=52:\n",
    "        cat_col.append(X_train.columns[i])\n",
    "    else:\n",
    "        num_col.append(X_train.columns[i])\n"
   ]
  },
  {
   "cell_type": "code",
   "execution_count": null,
   "id": "b87b9bee",
   "metadata": {
    "id": "8f573066"
   },
   "outputs": [],
   "source": [
    "from sklearn.impute import KNNImputer\n",
    "X_train_array  =X_train.to_numpy()\n",
    "imputer = KNNImputer(n_neighbors=5, weights=\"uniform\")\n",
    "imputed = imputer.fit_transform(X_train_array)"
   ]
  },
  {
   "cell_type": "code",
   "execution_count": null,
   "id": "8386bb00",
   "metadata": {
    "id": "8386bb00"
   },
   "outputs": [],
   "source": [
    "df_imputed = pd.DataFrame(imputed)\n",
    "df_imputed.columns=pd.DataFrame(X_train).columns.tolist()\n"
   ]
  },
  {
   "cell_type": "code",
   "execution_count": null,
   "id": "4705980a",
   "metadata": {
    "colab": {
     "base_uri": "https://localhost:8080/",
     "height": 461
    },
    "id": "4705980a",
    "outputId": "1ecefcc3-2947-4ae2-b9b8-4e2bd10702b2"
   },
   "outputs": [],
   "source": [
    "df_imputed"
   ]
  },
  {
   "cell_type": "code",
   "execution_count": null,
   "id": "25a108af",
   "metadata": {
    "id": "25a108af"
   },
   "outputs": [],
   "source": [
    "for i in cat_col:\n",
    "    df_imputed[[i]] = df_imputed[[i]].round()"
   ]
  },
  {
   "cell_type": "code",
   "execution_count": null,
   "id": "f4fb058d",
   "metadata": {
    "id": "f4fb058d"
   },
   "outputs": [],
   "source": [
    "df_imputed.reset_index(drop=True, inplace=True)\n",
    "y_train.reset_index(drop=True, inplace=True)"
   ]
  },
  {
   "cell_type": "code",
   "execution_count": null,
   "id": "5af702d8",
   "metadata": {
    "colab": {
     "base_uri": "https://localhost:8080/"
    },
    "id": "5af702d8",
    "outputId": "e073bda7-d9f6-4422-a55b-225dd7d037f6"
   },
   "outputs": [],
   "source": [
    "df_imputed.shape"
   ]
  },
  {
   "cell_type": "code",
   "execution_count": null,
   "id": "e18f791b",
   "metadata": {
    "colab": {
     "base_uri": "https://localhost:8080/"
    },
    "id": "e18f791b",
    "outputId": "430c24fc-ee69-4362-fea6-eb0ec5ab7ee2"
   },
   "outputs": [],
   "source": [
    "y_train.shape"
   ]
  },
  {
   "cell_type": "code",
   "execution_count": null,
   "id": "fbadc812",
   "metadata": {
    "id": "fbadc812"
   },
   "outputs": [],
   "source": [
    "#miaim x , y ro be ham michaboonim ta betonim normilize konim\n",
    "df_before_normalize = pd.concat([df_imputed , y_train], axis=1)"
   ]
  },
  {
   "cell_type": "code",
   "execution_count": null,
   "id": "8982e9dc",
   "metadata": {
    "id": "8982e9dc"
   },
   "outputs": [],
   "source": [
    "arr_tain =df_imputed.to_numpy()"
   ]
  },
  {
   "cell_type": "code",
   "execution_count": null,
   "id": "869a57d6",
   "metadata": {
    "id": "869a57d6"
   },
   "outputs": [],
   "source": [
    "from sklearn import preprocessing\n",
    "transform = preprocessing.StandardScaler()\n",
    "df_normalize = transform.fit_transform(arr_tain)\n",
    "df_normalize =pd.DataFrame(df_normalize)\n",
    "df_normalize.columns = df_imputed.columns.tolist()"
   ]
  },
  {
   "cell_type": "code",
   "execution_count": null,
   "id": "099db9ad",
   "metadata": {
    "id": "099db9ad"
   },
   "outputs": [],
   "source": [
    "X_train = df_normalize\n",
    "y_train = df_before_normalize[['Outcome_InhospitalMortality', 'TM_S_Intubation', 'Outcome_ICUadmission','TM_S_Dialysis']]"
   ]
  },
  {
   "cell_type": "code",
   "execution_count": null,
   "id": "2e62175e",
   "metadata": {
    "colab": {
     "base_uri": "https://localhost:8080/",
     "height": 461
    },
    "id": "2e62175e",
    "outputId": "3ced3769-96eb-4e52-cf46-b37aa476df4a"
   },
   "outputs": [],
   "source": [
    "X_train"
   ]
  },
  {
   "cell_type": "code",
   "execution_count": null,
   "id": "ad0e0ad3",
   "metadata": {
    "id": "ad0e0ad3"
   },
   "outputs": [],
   "source": []
  },
  {
   "cell_type": "code",
   "execution_count": null,
   "id": "9ed038e9",
   "metadata": {
    "colab": {
     "base_uri": "https://localhost:8080/",
     "height": 423
    },
    "id": "9ed038e9",
    "outputId": "a82aa386-eb7e-4b98-d920-c0a92508b22f"
   },
   "outputs": [],
   "source": [
    "y_train"
   ]
  },
  {
   "cell_type": "markdown",
   "id": "e13dbcf8",
   "metadata": {
    "id": "e13dbcf8"
   },
   "source": [
    "# Now we do the same for test set"
   ]
  },
  {
   "cell_type": "code",
   "execution_count": null,
   "id": "ecaad3b2",
   "metadata": {
    "colab": {
     "base_uri": "https://localhost:8080/",
     "height": 423
    },
    "id": "ecaad3b2",
    "outputId": "f08944b3-cbdf-4b38-a7cf-39e1745c71ec"
   },
   "outputs": [],
   "source": [
    "y_test"
   ]
  },
  {
   "cell_type": "code",
   "execution_count": null,
   "id": "56f95c33",
   "metadata": {
    "colab": {
     "base_uri": "https://localhost:8080/",
     "height": 461
    },
    "id": "56f95c33",
    "outputId": "0ff4d0f1-6437-4dd2-f18e-4ba0081a131e"
   },
   "outputs": [],
   "source": [
    "X_test"
   ]
  },
  {
   "cell_type": "code",
   "execution_count": null,
   "id": "cf48fe2a",
   "metadata": {
    "id": "cf48fe2a"
   },
   "outputs": [],
   "source": [
    "#inja miaim va data haye categorical va numerical ro moshakhas mikonim ke bade knn categorical ha ro round konim\n",
    "cat_col=[]\n",
    "num_col=[]\n",
    "for i in range(len(X_test.columns)):\n",
    "    if i <=52:\n",
    "        cat_col.append(X_test.columns[i])\n",
    "    else:\n",
    "        num_col.append(X_test.columns[i])\n"
   ]
  },
  {
   "cell_type": "code",
   "execution_count": null,
   "id": "275b6806",
   "metadata": {
    "id": "275b6806"
   },
   "outputs": [],
   "source": [
    "from sklearn.impute import KNNImputer\n",
    "X_test_array  =X_test.to_numpy()\n",
    "imputer = KNNImputer(n_neighbors=5, weights=\"uniform\")\n",
    "imputed_test = imputer.fit_transform(X_test_array)"
   ]
  },
  {
   "cell_type": "code",
   "execution_count": null,
   "id": "9b197071",
   "metadata": {
    "id": "9b197071"
   },
   "outputs": [],
   "source": [
    "df_imputed_test = pd.DataFrame(imputed_test)\n",
    "df_imputed_test.columns=pd.DataFrame(X_test).columns.tolist()\n"
   ]
  },
  {
   "cell_type": "code",
   "execution_count": null,
   "id": "b57f3399",
   "metadata": {
    "colab": {
     "base_uri": "https://localhost:8080/",
     "height": 461
    },
    "id": "b57f3399",
    "outputId": "7940b12c-e567-4279-c150-fa4c4bb6d80c"
   },
   "outputs": [],
   "source": [
    "df_imputed_test"
   ]
  },
  {
   "cell_type": "code",
   "execution_count": null,
   "id": "60d64f56",
   "metadata": {
    "id": "60d64f56"
   },
   "outputs": [],
   "source": [
    "for i in cat_col:\n",
    "    df_imputed_test[[i]] = df_imputed_test[[i]].round()"
   ]
  },
  {
   "cell_type": "code",
   "execution_count": null,
   "id": "70070982",
   "metadata": {
    "id": "70070982"
   },
   "outputs": [],
   "source": [
    "df_imputed_test.reset_index(drop=True, inplace=True)\n",
    "y_test.reset_index(drop=True, inplace=True)"
   ]
  },
  {
   "cell_type": "code",
   "execution_count": null,
   "id": "ba2e4260",
   "metadata": {
    "colab": {
     "base_uri": "https://localhost:8080/"
    },
    "id": "ba2e4260",
    "outputId": "687caf77-88a6-40c7-d9a1-b732c6eca934"
   },
   "outputs": [],
   "source": [
    "df_imputed_test.shape"
   ]
  },
  {
   "cell_type": "code",
   "execution_count": null,
   "id": "6346c812",
   "metadata": {
    "colab": {
     "base_uri": "https://localhost:8080/"
    },
    "id": "6346c812",
    "outputId": "d58e602a-325a-4384-c66f-818cce268082"
   },
   "outputs": [],
   "source": [
    "y_test.shape"
   ]
  },
  {
   "cell_type": "code",
   "execution_count": null,
   "id": "23494689",
   "metadata": {
    "id": "23494689"
   },
   "outputs": [],
   "source": [
    "#miaim x , y ro be ham michaboonim ta betonim normilize konim\n",
    "df_test_before_normalize = pd.concat([df_imputed_test , y_test], axis=1)"
   ]
  },
  {
   "cell_type": "code",
   "execution_count": null,
   "id": "891a7718",
   "metadata": {
    "colab": {
     "base_uri": "https://localhost:8080/"
    },
    "id": "891a7718",
    "outputId": "2bdddc6e-f4de-4894-cc8f-8e77cf709084"
   },
   "outputs": [],
   "source": [
    "df_test_before_normalize.shape"
   ]
  },
  {
   "cell_type": "code",
   "execution_count": null,
   "id": "4c574350",
   "metadata": {
    "id": "4c574350"
   },
   "outputs": [],
   "source": [
    "arr =df_test_before_normalize.to_numpy()"
   ]
  },
  {
   "cell_type": "code",
   "execution_count": null,
   "id": "db8e4634",
   "metadata": {
    "colab": {
     "base_uri": "https://localhost:8080/"
    },
    "id": "db8e4634",
    "outputId": "4b1ad1ab-e4a8-46d6-b6ad-56d9c50c00cf"
   },
   "outputs": [],
   "source": [
    "arr"
   ]
  },
  {
   "cell_type": "code",
   "execution_count": null,
   "id": "601f755f",
   "metadata": {
    "colab": {
     "base_uri": "https://localhost:8080/",
     "height": 443
    },
    "id": "601f755f",
    "outputId": "4baa5416-fcaf-4560-8521-8c1fefd8bb4b"
   },
   "outputs": [],
   "source": [
    "from sklearn import preprocessing\n",
    "transform = preprocessing.StandardScaler()\n",
    "df_test_normalize = transform.fit_transform(arr)\n",
    "df_test_normalize =pd.DataFrame(df_test_normalize)\n",
    "df_test_normalize.columns = df_internal_validation.columns.tolist()\n",
    "df_test_normalize"
   ]
  },
  {
   "cell_type": "code",
   "execution_count": null,
   "id": "29ec76da",
   "metadata": {
    "id": "29ec76da"
   },
   "outputs": [],
   "source": [
    "X_test = df_test_normalize.drop(columns=['Outcome_InhospitalMortality', 'TM_S_Intubation', 'Outcome_ICUadmission','TM_S_Dialysis'])\n",
    "y_test = df_test_before_normalize[['Outcome_InhospitalMortality', 'TM_S_Intubation', 'Outcome_ICUadmission','TM_S_Dialysis']]"
   ]
  },
  {
   "cell_type": "code",
   "execution_count": null,
   "id": "bdf44c3e",
   "metadata": {
    "colab": {
     "base_uri": "https://localhost:8080/",
     "height": 461
    },
    "id": "bdf44c3e",
    "outputId": "ce488e21-f16d-41e8-9965-f429f895eedd",
    "scrolled": false
   },
   "outputs": [],
   "source": [
    "X_test"
   ]
  },
  {
   "cell_type": "code",
   "execution_count": null,
   "id": "2f0abec2",
   "metadata": {
    "colab": {
     "base_uri": "https://localhost:8080/",
     "height": 423
    },
    "id": "2f0abec2",
    "outputId": "4d3d4204-c447-4517-e6a4-4bf9e1862b7a",
    "scrolled": true
   },
   "outputs": [],
   "source": [
    "y_test"
   ]
  },
  {
   "cell_type": "markdown",
   "id": "6ac69b28",
   "metadata": {
    "id": "6ac69b28"
   },
   "source": [
    "# Now dataset is cleaned and normalized"
   ]
  },
  {
   "cell_type": "markdown",
   "id": "65bfd27f",
   "metadata": {
    "id": "65bfd27f"
   },
   "source": [
    "## experimenting different models on dataset"
   ]
  },
  {
   "cell_type": "code",
   "execution_count": null,
   "id": "03126cba",
   "metadata": {
    "id": "03126cba"
   },
   "outputs": [],
   "source": [
    "\n",
    "import matplotlib.pyplot as plt\n",
    "import seaborn as sns\n",
    "from sklearn import preprocessing\n",
    "from sklearn.model_selection import train_test_split\n",
    "from sklearn.model_selection import GridSearchCV\n",
    "from sklearn.linear_model import LogisticRegression\n",
    "from sklearn.svm import SVC\n",
    "from sklearn.tree import DecisionTreeClassifier\n",
    "from sklearn.neighbors import KNeighborsClassifier"
   ]
  },
  {
   "cell_type": "code",
   "execution_count": null,
   "id": "d86e47ed",
   "metadata": {
    "id": "d86e47ed"
   },
   "outputs": [],
   "source": [
    "def plot_confusion_matrix(y,y_predict):\n",
    "    \"this function plots the confusion matrix\"\n",
    "    from sklearn.metrics import confusion_matrix\n",
    "\n",
    "    cm = confusion_matrix(y, y_predict)\n",
    "    ax= plt.subplot()\n",
    "    sns.heatmap(cm, annot=True, ax = ax); \n",
    "    ax.set_xlabel('Predicted labels')\n",
    "    ax.set_ylabel('True labels')\n",
    "    ax.set_title('Confusion Matrix');\n",
    "    ax.xaxis.set_ticklabels(['did not hapen', 'happend']); ax.yaxis.set_ticklabels(['did not hapen', 'happend'])"
   ]
  },
  {
   "cell_type": "code",
   "execution_count": null,
   "id": "d8e654f8",
   "metadata": {
    "id": "d8e654f8"
   },
   "outputs": [],
   "source": [
    "X_train = np.array(X_train)\n",
    "X_test = np.array(X_test)"
   ]
  },
  {
   "cell_type": "markdown",
   "id": "249f4e9e",
   "metadata": {
    "id": "249f4e9e"
   },
   "source": [
    "### Logistic Regression"
   ]
  },
  {
   "cell_type": "code",
   "execution_count": null,
   "id": "a9b8b780",
   "metadata": {
    "id": "a9b8b780"
   },
   "outputs": [],
   "source": [
    "\n",
    "#remember to consider x_test and y_test for each model"
   ]
  },
  {
   "cell_type": "code",
   "execution_count": null,
   "id": "12beb341",
   "metadata": {
    "id": "12beb341"
   },
   "outputs": [],
   "source": [
    "y_train_Outcome_InhospitalMortality = np.array(y_train['Outcome_InhospitalMortality'].tolist())\n",
    "y_test_Outcome_InhospitalMortality = np.array(y_test['Outcome_InhospitalMortality'].tolist())"
   ]
  },
  {
   "cell_type": "code",
   "execution_count": null,
   "id": "7c0dcc6c",
   "metadata": {
    "colab": {
     "base_uri": "https://localhost:8080/"
    },
    "id": "7c0dcc6c",
    "outputId": "d4c039e4-d1c4-4ca8-8bf3-ddc2224eb64c"
   },
   "outputs": [],
   "source": [
    "y_train_Outcome_InhospitalMortality.shape"
   ]
  },
  {
   "cell_type": "code",
   "execution_count": null,
   "id": "f5b9a39d",
   "metadata": {
    "colab": {
     "base_uri": "https://localhost:8080/"
    },
    "id": "f5b9a39d",
    "outputId": "8ad15c72-3ef9-445d-fd0b-ec4d1ecb55d5"
   },
   "outputs": [],
   "source": [
    "X_train.shape"
   ]
  },
  {
   "cell_type": "raw",
   "id": "91337a11",
   "metadata": {
    "id": "db86d871",
    "scrolled": true
   },
   "source": [
    "# define hyperparameters to tune\n",
    "parameters_lr ={}\n",
    "\n",
    "# define the model\n",
    "lr = LogisticRegression(random_state = 12345)\n",
    "\n",
    "# define the grid search object\n",
    "grid_search_lr = GridSearchCV(\n",
    "    estimator = lr,\n",
    "    param_grid = parameters_lr,\n",
    "    cv = 10,\n",
    "    n_jobs=-1\n",
    ")\n",
    "# execute search\n",
    "logreg_cv = grid_search_lr.fit(X_train,y_train_Outcome_InhospitalMortality)\n",
    "\n",
    "best_classifier_lr = logreg_cv.best_estimator_\n",
    "\n",
    "y_predicted_Mortality_lr = best_classifier_lr.predict(X_test)\n",
    "\n",
    "from sklearn.metrics import confusion_matrix, precision_score, recall_score, accuracy_score ,f1_score\n",
    "\n",
    "accuracy = accuracy_score(y_test_Outcome_InhospitalMortality, y_predicted_Mortality_lr)\n",
    "\n",
    "\n",
    "\n",
    "cm = confusion_matrix(y_test_Outcome_InhospitalMortality, y_predicted_Mortality_lr)\n",
    "\n",
    "precision = precision_score(y_test_Outcome_InhospitalMortality, y_predicted_Mortality_lr)\n",
    "recall = recall_score(y_test_Outcome_InhospitalMortality, y_predicted_Mortality_lr)\n",
    "specificity = cm[1, 1] / (cm[1, 0] + cm[1, 1])\n",
    "\n",
    "f1 = f1_score(y_test_Outcome_InhospitalMortality, y_predicted_Mortality_lr)\n",
    "\n",
    "Logistic_Regression = {}\n",
    "Logistic_Regression[\"accuracy\"]= accuracy\n",
    "Logistic_Regression[\"precision\"]= precision\n",
    "Logistic_Regression[\"recall\"]= recall\n",
    "Logistic_Regression[\"specificity\"]= accuracy\n",
    "Logistic_Regression[\"f1\"]= f1\n",
    "\n",
    "\n",
    "y_plot = {}\n",
    "y_plot[\"y_true\"]= y_train_Outcome_InhospitalMortality\n",
    "y_plot[\"y_predicted\"]=y_test_Outcome_InhospitalMortality"
   ]
  },
  {
   "cell_type": "code",
   "execution_count": null,
   "id": "a73cea5b",
   "metadata": {},
   "outputs": [],
   "source": [
    "from sklearn.metrics import (\n",
    "    accuracy_score,\n",
    "    confusion_matrix,\n",
    "    precision_score,\n",
    "    recall_score,\n",
    "    f1_score,\n",
    ")\n",
    "def logistic_regression_classifier(X_train, y_train, X_test, y_test):\n",
    "\n",
    "    parameters_lr = {}\n",
    "\n",
    "\n",
    "    lr = LogisticRegression(random_state=12345)\n",
    "\n",
    "\n",
    "    grid_search_lr = GridSearchCV(\n",
    "        estimator=lr,\n",
    "        param_grid=parameters_lr,\n",
    "        cv=5,\n",
    "        n_jobs=-1\n",
    "    )\n",
    "\n",
    "    logreg_cv = grid_search_lr.fit(X_train, y_train)\n",
    "\n",
    "    \n",
    "    best_classifier_lr = logreg_cv.best_estimator_\n",
    "\n",
    " \n",
    "    y_predicted_Mortality_lr = best_classifier_lr.predict(X_test)\n",
    "\n",
    " \n",
    "    accuracy = accuracy_score(y_test, y_predicted_Mortality_lr)\n",
    "    cm = confusion_matrix(y_test, y_predicted_Mortality_lr)\n",
    "    precision = precision_score(y_test, y_predicted_Mortality_lr)\n",
    "    recall = recall_score(y_test, y_predicted_Mortality_lr)\n",
    "    specificity = cm[1, 1] / (cm[1, 0] + cm[1, 1])\n",
    "    f1 = f1_score(y_test, y_predicted_Mortality_lr)\n",
    "\n",
    "\n",
    "    Logistic_Regression = {}\n",
    "    Logistic_Regression[\"accuracy\"] = accuracy\n",
    "    Logistic_Regression[\"precision\"] = precision\n",
    "    Logistic_Regression[\"recall\"] = recall\n",
    "    Logistic_Regression[\"specificity\"] = specificity\n",
    "    Logistic_Regression[\"f1\"] = f1\n",
    "\n",
    "    y_plot = {}\n",
    "    y_plot[\"y_true\"] = y_train\n",
    "    y_plot[\"y_predicted\"] = y_predicted_Mortality_lr\n",
    "    \n",
    "    Logistic_Regression = (Logistic_Regression, y_plot)\n",
    "    \n",
    "    return Logistic_Regression\n"
   ]
  },
  {
   "cell_type": "markdown",
   "id": "d43ff100",
   "metadata": {
    "id": "d43ff100"
   },
   "source": [
    "# SVM"
   ]
  },
  {
   "cell_type": "raw",
   "id": "6eafb0f3",
   "metadata": {
    "id": "8a14ecf3"
   },
   "source": [
    "from sklearn import svm\n",
    "svm = svm.SVC(random_state = 1234)\n",
    "\n",
    "# define hyperparameters to tune\n",
    "parameters_svm = {}\n",
    "\n",
    "# define the grid search object\n",
    "grid_search_svm = GridSearchCV(\n",
    "    estimator = svm,\n",
    "    param_grid = parameters_svm,\n",
    "    cv = 10\n",
    ")\n",
    "# execute search\n",
    "svm_cv = grid_search_svm.fit(X_train,y_train_Outcome_InhospitalMortality)\n",
    "\n",
    "best_classifier_svm = svm_cv.best_estimator_\n",
    "\n",
    "y_predicted_Mortality_svm = best_classifier_svm.predict(X_test)\n",
    "\n",
    "accuracy = accuracy_score(y_test_Outcome_InhospitalMortality, y_predicted_Mortality_svm)\n",
    "\n",
    "\n",
    "\n",
    "cm = confusion_matrix(y_test_Outcome_InhospitalMortality, y_predicted_Mortality_svm)\n",
    "\n",
    "precision = precision_score(y_test_Outcome_InhospitalMortality, y_predicted_Mortality_svm)\n",
    "recall = recall_score(y_test_Outcome_InhospitalMortality, y_predicted_Mortality_svm)\n",
    "specificity = cm[1, 1] / (cm[1, 0] + cm[1, 1])\n",
    "\n",
    "f1 = f1_score(y_test_Outcome_InhospitalMortality, y_predicted_Mortality_svm)\n",
    "\n",
    "svm = {}\n",
    "svm[\"accuracy\"]= accuracy\n",
    "svm[\"precision\"]= precision\n",
    "svm[\"recall\"]= recall\n",
    "svm[\"specificity\"]= accuracy\n",
    "svm[\"f1\"]= f1\n",
    "\n",
    "y_plot = {}\n",
    "y_plot[\"y_true\"]= y_train_Outcome_InhospitalMortality\n",
    "y_plot[\"y_predicted\"]=y_test_Outcome_InhospitalMortality"
   ]
  },
  {
   "cell_type": "code",
   "execution_count": null,
   "id": "77900b31",
   "metadata": {},
   "outputs": [],
   "source": [
    "from sklearn import svm\n",
    "from sklearn.model_selection import GridSearchCV\n",
    "from sklearn.metrics import (\n",
    "    accuracy_score,\n",
    "    confusion_matrix,\n",
    "    precision_score,\n",
    "    recall_score,\n",
    "    f1_score,\n",
    ")\n",
    "\n",
    "def train_and_evaluate_svm(X_train, y_train, X_test, y_test):\n",
    "\n",
    "    svm_classifier = svm.SVC(random_state=1234)\n",
    "\n",
    "\n",
    "    parameters_svm = {}\n",
    "\n",
    "\n",
    "    grid_search_svm = GridSearchCV(\n",
    "        estimator=svm_classifier,\n",
    "        param_grid=parameters_svm,\n",
    "        cv=5\n",
    "    )\n",
    "    \n",
    "   \n",
    "    svm_cv = grid_search_svm.fit(X_train, y_train)\n",
    "\n",
    " \n",
    "    best_classifier_svm = svm_cv.best_estimator_\n",
    "\n",
    "\n",
    "    y_predicted_Mortality_svm = best_classifier_svm.predict(X_test)\n",
    "\n",
    "   \n",
    "    accuracy = accuracy_score(y_test, y_predicted_Mortality_svm)\n",
    "    cm = confusion_matrix(y_test, y_predicted_Mortality_svm)\n",
    "    precision = precision_score(y_test, y_predicted_Mortality_svm)\n",
    "    recall = recall_score(y_test, y_predicted_Mortality_svm)\n",
    "    specificity = cm[1, 1] / (cm[1, 0] + cm[1, 1])\n",
    "    f1 = f1_score(y_test, y_predicted_Mortality_svm)\n",
    "\n",
    "    svm_results = {}\n",
    "    svm_results[\"accuracy\"] = accuracy\n",
    "    svm_results[\"precision\"] = precision\n",
    "    svm_results[\"recall\"] = recall\n",
    "    svm_results[\"specificity\"] = specificity\n",
    "    svm_results[\"f1\"] = f1\n",
    "\n",
    "  \n",
    "    y_plot = {}\n",
    "    y_plot[\"y_true\"] = y_train  \n",
    "    y_plot[\"y_predicted\"] = y_predicted_Mortality_svm\n",
    "\n",
    "    svm_results = (svm_results, y_plot)\n",
    "    \n",
    "    return svm_results\n",
    "\n"
   ]
  },
  {
   "cell_type": "markdown",
   "id": "2848877b",
   "metadata": {
    "id": "2848877b"
   },
   "source": [
    "# Decision tree"
   ]
  },
  {
   "cell_type": "raw",
   "id": "665c96cd",
   "metadata": {
    "id": "9d7d3cbb"
   },
   "source": [
    "# define hyperparameters to tune\n",
    "parameters_tree = {}\n",
    "\n",
    "# define the model\n",
    "tree = DecisionTreeClassifier(random_state = 12345)\n",
    "\n",
    "# define the grid search object\n",
    "grid_search_tree = GridSearchCV(\n",
    "    estimator = tree,\n",
    "    param_grid = parameters_tree,\n",
    "    cv = 10\n",
    ")\n",
    "# execute search\n",
    "tree_cv = grid_search_tree.fit(X_train, y_train_Outcome_InhospitalMortality)\n",
    "\n",
    "best_classifier_tree = tree_cv.best_estimator_\n",
    "\n",
    "y_predicted_Mortality_tree = best_classifier_tree.predict(X_test)\n",
    "\n",
    "accuracy = accuracy_score(y_test_Outcome_InhospitalMortality, y_predicted_Mortality_tree)\n",
    "\n",
    "\n",
    "\n",
    "cm = confusion_matrix(y_test_Outcome_InhospitalMortality, y_predicted_Mortality_tree)\n",
    "\n",
    "precision = precision_score(y_test_Outcome_InhospitalMortality, y_predicted_Mortality_tree)\n",
    "recall = recall_score(y_test_Outcome_InhospitalMortality, y_predicted_Mortality_tree)\n",
    "specificity = cm[1, 1] / (cm[1, 0] + cm[1, 1])\n",
    "\n",
    "f1 = f1_score(y_test_Outcome_InhospitalMortality, y_predicted_Mortality_tree)\n",
    "\n",
    "tree = {}\n",
    "tree[\"accuracy\"]= accuracy\n",
    "tree[\"precision\"]= precision\n",
    "tree[\"recall\"]= recall\n",
    "tree[\"specificity\"]= accuracy\n",
    "tree[\"f1\"]= f1"
   ]
  },
  {
   "cell_type": "code",
   "execution_count": null,
   "id": "881b0189",
   "metadata": {},
   "outputs": [],
   "source": [
    "from sklearn.tree import DecisionTreeClassifier\n",
    "from sklearn.model_selection import GridSearchCV\n",
    "from sklearn.metrics import (\n",
    "    accuracy_score,\n",
    "    confusion_matrix,\n",
    "    precision_score,\n",
    "    recall_score,\n",
    "    f1_score,\n",
    ")\n",
    "\n",
    "def train_and_evaluate_tree(X_train, y_train, X_test, y_test):\n",
    "\n",
    "    parameters_tree = {}\n",
    "\n",
    " \n",
    "    tree = DecisionTreeClassifier(random_state=12345)\n",
    "\n",
    " \n",
    "    grid_search_tree = GridSearchCV(\n",
    "        estimator=tree,\n",
    "        param_grid=parameters_tree,\n",
    "        cv=5\n",
    "    )\n",
    "    \n",
    "\n",
    "    tree_cv = grid_search_tree.fit(X_train, y_train)\n",
    "\n",
    "  \n",
    "    best_classifier_tree = tree_cv.best_estimator_\n",
    "\n",
    " \n",
    "    y_predicted_Mortality_tree = best_classifier_tree.predict(X_test)\n",
    "\n",
    " \n",
    "    accuracy = accuracy_score(y_test, y_predicted_Mortality_tree)\n",
    "    cm = confusion_matrix(y_test, y_predicted_Mortality_tree)\n",
    "    precision = precision_score(y_test, y_predicted_Mortality_tree)\n",
    "    recall = recall_score(y_test, y_predicted_Mortality_tree)\n",
    "    specificity = cm[1, 1] / (cm[1, 0] + cm[1, 1])\n",
    "    f1 = f1_score(y_test, y_predicted_Mortality_tree)\n",
    "\n",
    "  \n",
    "    tree_results = {}\n",
    "    tree_results[\"accuracy\"] = accuracy\n",
    "    tree_results[\"precision\"] = precision\n",
    "    tree_results[\"recall\"] = recall\n",
    "    tree_results[\"specificity\"] = specificity\n",
    "    tree_results[\"f1\"] = f1\n",
    "\n",
    "\n",
    "    y_plot = {}\n",
    "    y_plot[\"y_true\"] = y_train \n",
    "    y_plot[\"y_predicted\"] = y_predicted_Mortality_tree\n",
    "\n",
    "    tree_results = (tree_results, y_plot)\n",
    "    \n",
    "    return tree_results\n",
    "\n"
   ]
  },
  {
   "cell_type": "markdown",
   "id": "d15a4057",
   "metadata": {
    "id": "d15a4057"
   },
   "source": [
    "# KNN"
   ]
  },
  {
   "cell_type": "raw",
   "id": "4794b681",
   "metadata": {
    "id": "0c07d326"
   },
   "source": [
    "# define hyperparameters to tune\n",
    "parameters_knn = {}\n",
    "\n",
    "# define the model\n",
    "knn = KNeighborsClassifier()\n",
    "\n",
    "# define the grid search object\n",
    "grid_search_knn = GridSearchCV(\n",
    "    estimator = knn,\n",
    "    param_grid = parameters_knn,\n",
    "    cv = 10\n",
    ")\n",
    "# execute search\n",
    "knn_cv = grid_search_knn.fit(X_train, y_train_Outcome_InhospitalMortality)\n",
    "\n",
    "best_classifier_knn = knn_cv.best_estimator_\n",
    "\n",
    "y_predicted_Mortality_Knn = best_classifier_knn.predict(X_test)\n",
    "\n",
    "accuracy = accuracy_score(y_test_Outcome_InhospitalMortality, y_predicted_Mortality_Knn)\n",
    "\n",
    "\n",
    "\n",
    "cm = confusion_matrix(y_test_Outcome_InhospitalMortality, y_predicted_Mortality_Knn)\n",
    "\n",
    "precision = precision_score(y_test_Outcome_InhospitalMortality, y_predicted_Mortality_Knn)\n",
    "recall = recall_score(y_test_Outcome_InhospitalMortality, y_predicted_Mortality_Knn)\n",
    "specificity = cm[1, 1] / (cm[1, 0] + cm[1, 1])\n",
    "\n",
    "f1 = f1_score(y_test_Outcome_InhospitalMortality, y_predicted_Mortality_Knn)\n",
    "\n",
    "Knn = {}\n",
    "Knn[\"accuracy\"]= accuracy\n",
    "Knn[\"precision\"]= precision\n",
    "Knn[\"recall\"]= recall\n",
    "Knn[\"specificity\"]= accuracy\n",
    "Knn[\"f1\"]= f1"
   ]
  },
  {
   "cell_type": "code",
   "execution_count": null,
   "id": "e16b3893",
   "metadata": {},
   "outputs": [],
   "source": [
    "from sklearn.neighbors import KNeighborsClassifier\n",
    "from sklearn.model_selection import GridSearchCV\n",
    "from sklearn.metrics import (\n",
    "    accuracy_score,\n",
    "    confusion_matrix,\n",
    "    precision_score,\n",
    "    recall_score,\n",
    "    f1_score,\n",
    ")\n",
    "\n",
    "def train_and_evaluate_knn(X_train, y_train, X_test, y_test):\n",
    "\n",
    "    parameters_knn = {}\n",
    "\n",
    " \n",
    "    knn = KNeighborsClassifier()\n",
    "\n",
    "\n",
    "    grid_search_knn = GridSearchCV(\n",
    "        estimator=knn,\n",
    "        param_grid=parameters_knn,\n",
    "        cv=5\n",
    "    )\n",
    "    \n",
    "\n",
    "    knn_cv = grid_search_knn.fit(X_train, y_train)\n",
    "\n",
    "    best_classifier_knn = knn_cv.best_estimator_\n",
    "\n",
    "    y_predicted_Mortality_knn = best_classifier_knn.predict(X_test)\n",
    "\n",
    "    accuracy = accuracy_score(y_test, y_predicted_Mortality_knn)\n",
    "    cm = confusion_matrix(y_test, y_predicted_Mortality_knn)\n",
    "    precision = precision_score(y_test, y_predicted_Mortality_knn)\n",
    "    recall = recall_score(y_test, y_predicted_Mortality_knn)\n",
    "    specificity = cm[1, 1] / (cm[1, 0] + cm[1, 1])\n",
    "    f1 = f1_score(y_test, y_predicted_Mortality_knn)\n",
    "\n",
    "    knn_results = {}\n",
    "    knn_results[\"accuracy\"] = accuracy\n",
    "    knn_results[\"precision\"] = precision\n",
    "    knn_results[\"recall\"] = recall\n",
    "    knn_results[\"specificity\"] = specificity\n",
    "    knn_results[\"f1\"] = f1\n",
    "\n",
    "\n",
    "    y_plot = {}\n",
    "    y_plot[\"y_true\"] = y_train  \n",
    "    y_plot[\"y_predicted\"] = y_predicted_Mortality_knn\n",
    "\n",
    "    knn_results = (knn_results, y_plot)\n",
    "    \n",
    "    return knn_results\n",
    "\n"
   ]
  },
  {
   "cell_type": "markdown",
   "id": "a2db56b9",
   "metadata": {
    "id": "a2db56b9"
   },
   "source": [
    "# Random forest"
   ]
  },
  {
   "cell_type": "raw",
   "id": "94aa567c",
   "metadata": {
    "id": "b9451957"
   },
   "source": [
    "from sklearn.ensemble import RandomForestClassifier\n",
    "\n",
    "parameters_forest = {}\n",
    "\n",
    "forest = RandomForestClassifier\n",
    "\n",
    "grid_search_forest = GridSearchCV(\n",
    "    estimator = forest,\n",
    "    param_grid = parameters_forest,\n",
    "    cv = 10\n",
    ")\n",
    "# execute search\n",
    "forest_cv = grid_search_knn.fit(X_train, y_train_Outcome_InhospitalMortality)\n",
    "\n",
    "best_classifier_forest = forest_cv.best_estimator_\n",
    "\n",
    "y_predicted_Mortality_forest = best_classifier_forest.predict(X_test)\n",
    "\n",
    "accuracy = accuracy_score(y_test_Outcome_InhospitalMortality, y_predicted_Mortality_forest)\n",
    "\n",
    "\n",
    "\n",
    "cm = confusion_matrix(y_test_Outcome_InhospitalMortality, y_predicted_Mortality_forest)\n",
    "\n",
    "precision = precision_score(y_test_Outcome_InhospitalMortality, y_predicted_Mortality_forest)\n",
    "recall = recall_score(y_test_Outcome_InhospitalMortality, y_predicted_Mortality_forest)\n",
    "specificity = cm[1, 1] / (cm[1, 0] + cm[1, 1])\n",
    "\n",
    "f1 = f1_score(y_test_Outcome_InhospitalMortality, y_predicted_Mortality_forest)\n",
    "\n",
    "forest = {}\n",
    "forest[\"accuracy\"]= accuracy\n",
    "forest[\"precision\"]= precision\n",
    "forest[\"recall\"]= recall\n",
    "forest[\"specificity\"]= accuracy\n",
    "forest[\"f1\"]= f1"
   ]
  },
  {
   "cell_type": "code",
   "execution_count": null,
   "id": "5139caf1",
   "metadata": {},
   "outputs": [],
   "source": [
    "from sklearn.ensemble import RandomForestClassifier\n",
    "from sklearn.model_selection import GridSearchCV\n",
    "from sklearn.metrics import (\n",
    "    accuracy_score,\n",
    "    confusion_matrix,\n",
    "    precision_score,\n",
    "    recall_score,\n",
    "    f1_score,\n",
    ")\n",
    "\n",
    "def train_and_evaluate_forest(X_train, y_train, X_test, y_test):\n",
    "    parameters_forest = {}\n",
    "\n",
    "\n",
    "    forest = RandomForestClassifier()\n",
    "\n",
    "\n",
    "    grid_search_forest = GridSearchCV(\n",
    "        estimator=forest,\n",
    "        param_grid=parameters_forest,\n",
    "        cv=5\n",
    "    )\n",
    "    \n",
    "\n",
    "    forest_cv = grid_search_forest.fit(X_train, y_train)\n",
    "\n",
    "    best_classifier_forest = forest_cv.best_estimator_\n",
    "\n",
    "    y_predicted_Mortality_forest = best_classifier_forest.predict(X_test)\n",
    "\n",
    "\n",
    "    accuracy = accuracy_score(y_test, y_predicted_Mortality_forest)\n",
    "    cm = confusion_matrix(y_test, y_predicted_Mortality_forest)\n",
    "    precision = precision_score(y_test, y_predicted_Mortality_forest)\n",
    "    recall = recall_score(y_test, y_predicted_Mortality_forest)\n",
    "    specificity = cm[1, 1] / (cm[1, 0] + cm[1, 1])\n",
    "    f1 = f1_score(y_test, y_predicted_Mortality_forest)\n",
    "\n",
    "\n",
    "    forest_results = {}\n",
    "    forest_results[\"accuracy\"] = accuracy\n",
    "    forest_results[\"precision\"] = precision\n",
    "    forest_results[\"recall\"] = recall\n",
    "    forest_results[\"specificity\"] = specificity\n",
    "    forest_results[\"f1\"] = f1\n",
    "\n",
    "    y_plot = {}\n",
    "    y_plot[\"y_true\"] = y_train\n",
    "    y_plot[\"y_predicted\"] = y_predicted_Mortality_forest\n",
    "\n",
    "    return forest_results, y_plot\n"
   ]
  },
  {
   "cell_type": "markdown",
   "id": "873cce87",
   "metadata": {
    "id": "873cce87"
   },
   "source": [
    "# Neural Network"
   ]
  },
  {
   "cell_type": "raw",
   "id": "d1f184ca",
   "metadata": {
    "colab": {
     "base_uri": "https://localhost:8080/"
    },
    "id": "f9915479",
    "outputId": "ddd043e2-d122-4a4d-f908-6c08e75616ab"
   },
   "source": [
    "from sklearn.neural_network import MLPClassifier\n",
    "\n",
    "parameters_neural = {}\n",
    "\n",
    "neural = MLPClassifier()\n",
    "\n",
    "grid_search_neural = GridSearchCV(\n",
    "    estimator = neural,\n",
    "    param_grid = parameters_neural,\n",
    "    cv = 10\n",
    ")\n",
    "\n",
    "neural_cv = grid_search_neural.fit(X_train, y_train_Outcome_InhospitalMortality)\n",
    "\n",
    "best_classifier_neural = neural_cv.best_estimator_\n",
    "\n",
    "y_predicted_Mortality_neural =best_classifier_neural.predict(X_test)\n",
    "\n",
    "accuracy = accuracy_score(y_test_Outcome_InhospitalMortality, y_predicted_Mortality_neural)\n",
    "\n",
    "\n",
    "\n",
    "cm = confusion_matrix(y_test_Outcome_InhospitalMortality, y_predicted_Mortality_neural)\n",
    "\n",
    "precision = precision_score(y_test_Outcome_InhospitalMortality, y_predicted_Mortality_neural)\n",
    "recall = recall_score(y_test_Outcome_InhospitalMortality, y_predicted_Mortality_neural)\n",
    "specificity = cm[1, 1] / (cm[1, 0] + cm[1, 1])\n",
    "\n",
    "f1 = f1_score(y_test_Outcome_InhospitalMortality, y_predicted_Mortality_neural)\n",
    "\n",
    "neural = {}\n",
    "neural[\"accuracy\"]= accuracy\n",
    "neural[\"precision\"]= precision\n",
    "neural[\"recall\"]= recall\n",
    "neural[\"specificity\"]= accuracy\n",
    "neural[\"f1\"]= f1"
   ]
  },
  {
   "cell_type": "code",
   "execution_count": null,
   "id": "5879d8e7",
   "metadata": {},
   "outputs": [],
   "source": [
    "from sklearn.neural_network import MLPClassifier\n",
    "from sklearn.model_selection import GridSearchCV\n",
    "from sklearn.metrics import (\n",
    "    accuracy_score,\n",
    "    confusion_matrix,\n",
    "    precision_score,\n",
    "    recall_score,\n",
    "    f1_score,\n",
    ")\n",
    "\n",
    "def train_and_evaluate_neural(X_train, y_train, X_test, y_test):\n",
    "\n",
    "    parameters_neural = {}\n",
    "\n",
    "\n",
    "    neural = MLPClassifier()\n",
    "\n",
    "    grid_search_neural = GridSearchCV(\n",
    "        estimator=neural,\n",
    "        param_grid=parameters_neural,\n",
    "        cv=5\n",
    "    )\n",
    "    \n",
    "\n",
    "    neural_cv = grid_search_neural.fit(X_train, y_train)\n",
    "\n",
    "   \n",
    "    best_classifier_neural = neural_cv.best_estimator_\n",
    "\n",
    "    \n",
    "    y_predicted_Mortality_neural = best_classifier_neural.predict(X_test)\n",
    "\n",
    "    accuracy = accuracy_score(y_test, y_predicted_Mortality_neural)\n",
    "    cm = confusion_matrix(y_test, y_predicted_Mortality_neural)\n",
    "    precision = precision_score(y_test, y_predicted_Mortality_neural)\n",
    "    recall = recall_score(y_test, y_predicted_Mortality_neural)\n",
    "    specificity = cm[1, 1] / (cm[1, 0] + cm[1, 1])\n",
    "    f1 = f1_score(y_test, y_predicted_Mortality_neural)\n",
    "\n",
    " \n",
    "    neural_results = {}\n",
    "    neural_results[\"accuracy\"] = accuracy\n",
    "    neural_results[\"precision\"] = precision\n",
    "    neural_results[\"recall\"] = recall\n",
    "    neural_results[\"specificity\"] = specificity\n",
    "    neural_results[\"f1\"] = f1\n",
    "\n",
    "    \n",
    "    y_plot = {}\n",
    "    y_plot[\"y_true\"] = y_train  \n",
    "    y_plot[\"y_predicted\"] = y_predicted_Mortality_neural\n",
    "\n",
    "    return neural_results, y_plot\n",
    "\n"
   ]
  },
  {
   "cell_type": "markdown",
   "id": "jUZXKSEf50lK",
   "metadata": {
    "id": "jUZXKSEf50lK"
   },
   "source": [
    "# XGboost"
   ]
  },
  {
   "cell_type": "raw",
   "id": "30ff0992",
   "metadata": {
    "id": "cI510TWk52O6"
   },
   "source": [
    "from xgboost import XGBClassifier\n",
    "# Define a parameter grid to search through\n",
    "parameters_boost = {}\n",
    "\n",
    "# Create an XGBoost classifier\n",
    "boost = XGBClassifier()\n",
    "\n",
    "grid_search_boost = GridSearchCV(\n",
    "    estimator = boost,\n",
    "    param_grid = parameters_boost,\n",
    "    cv = 10\n",
    ")\n",
    "\n",
    "boost_cv = grid_search_boost.fit(X_train, y_train_Outcome_InhospitalMortality)\n",
    "\n",
    "best_classifier_boost = boost_cv.best_estimator_\n",
    "\n",
    "y_predicted_Mortality_boost =best_classifier_boost.predict(X_test)\n",
    "\n",
    "accuracy = accuracy_score(y_test_Outcome_InhospitalMortality, y_predicted_Mortality_boost)\n",
    "\n",
    "\n",
    "\n",
    "cm = confusion_matrix(y_test_Outcome_InhospitalMortality, y_predicted_Mortality_boost)\n",
    "\n",
    "precision = precision_score(y_test_Outcome_InhospitalMortality, y_predicted_Mortality_boost)\n",
    "recall = recall_score(y_test_Outcome_InhospitalMortality, y_predicted_Mortality_boost)\n",
    "specificity = cm[1, 1] / (cm[1, 0] + cm[1, 1])\n",
    "\n",
    "f1 = f1_score(y_test_Outcome_InhospitalMortality, y_predicted_Mortality_boost)\n",
    "\n",
    "boost = {}\n",
    "boost[\"accuracy\"]= accuracy\n",
    "boost[\"precision\"]= precision\n",
    "boost[\"recall\"]= recall\n",
    "boost[\"specificity\"]= accuracy\n",
    "boost[\"f1\"]= f1"
   ]
  },
  {
   "cell_type": "code",
   "execution_count": null,
   "id": "b2715bdb",
   "metadata": {},
   "outputs": [],
   "source": [
    "from xgboost import XGBClassifier\n",
    "from sklearn.model_selection import GridSearchCV\n",
    "from sklearn.metrics import (\n",
    "    accuracy_score,\n",
    "    confusion_matrix,\n",
    "    precision_score,\n",
    "    recall_score,\n",
    "    f1_score,\n",
    ")\n",
    "\n",
    "def train_and_evaluate_boost(X_train, y_train, X_test, y_test):\n",
    "  \n",
    "    parameters_boost = {}\n",
    "\n",
    " \n",
    "    boost = XGBClassifier()\n",
    "\n",
    "\n",
    "    grid_search_boost = GridSearchCV(\n",
    "        estimator=boost,\n",
    "        param_grid=parameters_boost,\n",
    "        cv=5\n",
    "    )\n",
    "    \n",
    "\n",
    "    boost_cv = grid_search_boost.fit(X_train, y_train)\n",
    "\n",
    "\n",
    "    best_classifier_boost = boost_cv.best_estimator_\n",
    "\n",
    "\n",
    "    y_predicted_Mortality_boost = best_classifier_boost.predict(X_test)\n",
    "\n",
    "\n",
    "    accuracy = accuracy_score(y_test, y_predicted_Mortality_boost)\n",
    "    cm = confusion_matrix(y_test, y_predicted_Mortality_boost)\n",
    "    precision = precision_score(y_test, y_predicted_Mortality_boost)\n",
    "    recall = recall_score(y_test, y_predicted_Mortality_boost)\n",
    "    specificity = cm[1, 1] / (cm[1, 0] + cm[1, 1])\n",
    "    f1 = f1_score(y_test, y_predicted_Mortality_boost)\n",
    "\n",
    "  \n",
    "    boost_results = {}\n",
    "    boost_results[\"accuracy\"] = accuracy\n",
    "    boost_results[\"precision\"] = precision\n",
    "    boost_results[\"recall\"] = recall\n",
    "    boost_results[\"specificity\"] = specificity\n",
    "    boost_results[\"f1\"] = f1\n",
    "\n",
    "\n",
    "    y_plot = {}\n",
    "    y_plot[\"y_true\"] = y_train \n",
    "    y_plot[\"y_predicted\"] = y_predicted_Mortality_boost\n",
    "\n",
    "    return boost_results, y_plot\n",
    "\n"
   ]
  },
  {
   "cell_type": "raw",
   "id": "d06f16c1",
   "metadata": {
    "id": "7a3236d9"
   },
   "source": [
    "final_Mortality_dict={'Logistic_Regression':Logistic_Regression,\n",
    "                      'svm':svm,\n",
    "                      'tree':tree,\n",
    "                      'Knn':Knn,\n",
    "                      'forest':forest,\n",
    "                      'neural':neural,\n",
    "                      'boost':boost}"
   ]
  },
  {
   "cell_type": "raw",
   "id": "80088536",
   "metadata": {
    "colab": {
     "base_uri": "https://localhost:8080/"
    },
    "id": "cdbcb415",
    "outputId": "21660906-c5cb-4b7b-d8e4-af42d8162997"
   },
   "source": [
    "final_Mortality_dict"
   ]
  },
  {
   "cell_type": "raw",
   "id": "0729d902",
   "metadata": {
    "id": "c5698e68"
   },
   "source": [
    "df_con = pd.DataFrame.from_dict(final_Mortality_dict, orient='index')"
   ]
  },
  {
   "cell_type": "raw",
   "id": "c8371e1a",
   "metadata": {
    "colab": {
     "base_uri": "https://localhost:8080/",
     "height": 269
    },
    "id": "913338d7",
    "outputId": "38ba90e2-7dfd-4ef6-87ac-4af905afc92c"
   },
   "source": [
    "df_con"
   ]
  },
  {
   "cell_type": "raw",
   "id": "69b04841",
   "metadata": {
    "colab": {
     "base_uri": "https://localhost:8080/"
    },
    "id": "2a2ebda6",
    "outputId": "cde3a321-f6fd-456a-c1b9-a293b9968699"
   },
   "source": [
    "max(df_con['f1'])"
   ]
  },
  {
   "cell_type": "code",
   "execution_count": null,
   "id": "3769b24c",
   "metadata": {},
   "outputs": [],
   "source": [
    "y_test.columns"
   ]
  },
  {
   "cell_type": "code",
   "execution_count": null,
   "id": "4b3f7bfa",
   "metadata": {},
   "outputs": [],
   "source": [
    "list_Outcome_InhospitalMortality=[]\n",
    "list_TM_S_Intubation=[]\n",
    "list_Outcome_ICUadmission=[]\n",
    "list_TM_S_Dialysis=[]\n",
    "for i in y_test.columns:\n",
    "    y_train_ = np.array(y_train[i].tolist())\n",
    "    y_test_ = np.array(y_test[i].tolist())\n",
    "    if i =='Outcome_InhospitalMortality':\n",
    "        list_Outcome_InhospitalMortality.extend([logistic_regression_classifier(X_train, y_train_, X_test, y_test_),\n",
    "                                                 train_and_evaluate_svm(X_train, y_train_, X_test, y_test_),\n",
    "                                                train_and_evaluate_tree(X_train, y_train_, X_test, y_test_),\n",
    "                                                train_and_evaluate_knn(X_train, y_train_, X_test, y_test_),\n",
    "                                                train_and_evaluate_forest(X_train, y_train_, X_test, y_test_),\n",
    "                                                train_and_evaluate_neural(X_train, y_train_, X_test, y_test_),\n",
    "                                                train_and_evaluate_boost(X_train, y_train_, X_test, y_test_)])\n",
    "    elif i =='TM_S_Intubation':\n",
    "        list_TM_S_Intubation.extend([logistic_regression_classifier(X_train, y_train_, X_test, y_test_),\n",
    "                                                 train_and_evaluate_svm(X_train, y_train_, X_test, y_test_),\n",
    "                                                train_and_evaluate_tree(X_train, y_train_, X_test, y_test_),\n",
    "                                                train_and_evaluate_knn(X_train, y_train_, X_test, y_test_),\n",
    "                                                train_and_evaluate_forest(X_train, y_train_, X_test, y_test_),\n",
    "                                                train_and_evaluate_neural(X_train, y_train_, X_test, y_test_),\n",
    "                                                train_and_evaluate_boost(X_train, y_train_, X_test, y_test_)])\n",
    "    elif i =='Outcome_ICUadmission':\n",
    "        list_Outcome_ICUadmission.extend([logistic_regression_classifier(X_train, y_train_, X_test, y_test_),\n",
    "                                                 train_and_evaluate_svm(X_train, y_train_, X_test, y_test_),\n",
    "                                                train_and_evaluate_tree(X_train, y_train_, X_test, y_test_),\n",
    "                                                train_and_evaluate_knn(X_train, y_train_, X_test, y_test_),\n",
    "                                                train_and_evaluate_forest(X_train, y_train_, X_test, y_test_),\n",
    "                                                train_and_evaluate_neural(X_train, y_train_, X_test, y_test_),\n",
    "                                                train_and_evaluate_boost(X_train, y_train_, X_test, y_test_)])\n",
    "    elif i =='TM_S_Dialysis':\n",
    "        list_TM_S_Dialysis.extend([logistic_regression_classifier(X_train, y_train_, X_test, y_test_),\n",
    "                                                 train_and_evaluate_svm(X_train, y_train_, X_test, y_test_),\n",
    "                                                train_and_evaluate_tree(X_train, y_train_, X_test, y_test_),\n",
    "                                                train_and_evaluate_knn(X_train, y_train_, X_test, y_test_),\n",
    "                                                train_and_evaluate_forest(X_train, y_train_, X_test, y_test_),\n",
    "                                                train_and_evaluate_neural(X_train, y_train_, X_test, y_test_),\n",
    "                                                train_and_evaluate_boost(X_train, y_train_, X_test, y_test_)])\n"
   ]
  },
  {
   "cell_type": "code",
   "execution_count": null,
   "id": "e015af44",
   "metadata": {},
   "outputs": [],
   "source": [
    "list_TM_S_Intubation"
   ]
  },
  {
   "cell_type": "code",
   "execution_count": null,
   "id": "8b0570e5",
   "metadata": {},
   "outputs": [],
   "source": [
    "result_dic_list_Outcome_InhospitalMortality = dict(zip(['logistic_regression', 'svm', 'tree', 'knn', 'forest', 'neural', 'boost'], list_Outcome_InhospitalMortality))\n",
    "result_dic_list_TM_S_Intubation = dict(zip(['logistic_regression', 'svm', 'tree', 'knn', 'forest', 'neural', 'boost'], list_TM_S_Intubation))\n",
    "result_dic_list_Outcome_ICUadmission = dict(zip(['logistic_regression', 'svm', 'tree', 'knn', 'forest', 'neural', 'boost'], list_Outcome_ICUadmission))\n",
    "result_dic_list_TM_S_Dialysis = dict(zip(['logistic_regression', 'svm', 'tree', 'knn', 'forest', 'neural', 'boost'], list_TM_S_Dialysis))\n"
   ]
  },
  {
   "cell_type": "code",
   "execution_count": null,
   "id": "912498ae",
   "metadata": {},
   "outputs": [],
   "source": [
    "result_dic_list_Outcome_InhospitalMortality"
   ]
  },
  {
   "cell_type": "code",
   "execution_count": null,
   "id": "f3f1873c",
   "metadata": {},
   "outputs": [],
   "source": [
    "result_dic_list_TM_S_Intubation"
   ]
  },
  {
   "cell_type": "code",
   "execution_count": null,
   "id": "3e1e925f",
   "metadata": {},
   "outputs": [],
   "source": [
    "\n",
    "merged_dict = {}\n",
    "\n",
    "# List of dictionary names and their corresponding dictionaries\n",
    "dict_list = [('Outcome_InhospitalMortality', result_dic_list_Outcome_InhospitalMortality),\n",
    "             ('TM_S_Intubation', result_dic_list_TM_S_Intubation),\n",
    "             ('Outcome_ICUadmission', result_dic_list_Outcome_ICUadmission),\n",
    "             ('TM_S_Dialysis', result_dic_list_TM_S_Dialysis)]\n",
    "\n",
    "# Merge the dictionaries\n",
    "for name, result_dict in dict_list:\n",
    "    merged_dict[name] = result_dict\n",
    "\n",
    "# The merged_dict now contains all the dictionaries merged together"
   ]
  },
  {
   "cell_type": "code",
   "execution_count": null,
   "id": "0ed56e8a",
   "metadata": {},
   "outputs": [],
   "source": [
    "merged_dict"
   ]
  },
  {
   "cell_type": "code",
   "execution_count": null,
   "id": "34c7b18e",
   "metadata": {},
   "outputs": [],
   "source": [
    "import pandas as pd\n",
    "\n",
    "\n",
    "df = pd.DataFrame(merged_dict)\n",
    "\n",
    "\n",
    "df = df.transpose()\n",
    "\n",
    "\n",
    "df.reset_index(inplace=True)\n",
    "df.rename(columns={'index': 'Method'}, inplace=True)\n",
    "\n"
   ]
  },
  {
   "cell_type": "code",
   "execution_count": null,
   "id": "5c5c1bbc",
   "metadata": {},
   "outputs": [],
   "source": [
    "df"
   ]
  },
  {
   "cell_type": "code",
   "execution_count": null,
   "id": "a1f5aee4",
   "metadata": {},
   "outputs": [],
   "source": [
    "data = []\n",
    "\n",
    "for outcome, models in merged_dict.items():\n",
    "    for model, metrics in models.items():\n",
    "        accuracy, precision, recall, specificity, f1 = metrics[0]['accuracy'], metrics[0]['precision'], metrics[0]['recall'], metrics[0]['specificity'], metrics[0]['f1']\n",
    "        y_true, y_predicted = metrics[1]['y_true'], metrics[1]['y_predicted']\n",
    "        data.append([outcome, model, accuracy, precision, recall, specificity, f1, y_true.tolist(), y_predicted.tolist()])\n",
    "\n",
    "columns = ['Outcome', 'Model', 'Accuracy', 'Precision', 'Recall', 'Specificity', 'F1', 'y_true', 'y_predicted']\n",
    "\n",
    "df = pd.DataFrame(data, columns=columns)\n"
   ]
  },
  {
   "cell_type": "code",
   "execution_count": null,
   "id": "30422537",
   "metadata": {},
   "outputs": [],
   "source": [
    "df"
   ]
  },
  {
   "cell_type": "code",
   "execution_count": null,
   "id": "df472957",
   "metadata": {},
   "outputs": [],
   "source": []
  },
  {
   "cell_type": "code",
   "execution_count": null,
   "id": "86fb00fb",
   "metadata": {},
   "outputs": [],
   "source": []
  }
 ],
 "metadata": {
  "accelerator": "GPU",
  "colab": {
   "gpuType": "T4",
   "provenance": []
  },
  "kernelspec": {
   "display_name": "Python 3",
   "language": "python",
   "name": "python3"
  },
  "language_info": {
   "codemirror_mode": {
    "name": "ipython",
    "version": 3
   },
   "file_extension": ".py",
   "mimetype": "text/x-python",
   "name": "python",
   "nbconvert_exporter": "python",
   "pygments_lexer": "ipython3",
   "version": "3.8.8"
  }
 },
 "nbformat": 4,
 "nbformat_minor": 5
}

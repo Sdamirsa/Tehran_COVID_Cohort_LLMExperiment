{
 "cells": [
  {
   "cell_type": "code",
   "execution_count": 2,
   "id": "5ae5935d",
   "metadata": {},
   "outputs": [],
   "source": [
    "import pandas as pd"
   ]
  },
  {
   "cell_type": "code",
   "execution_count": 23,
   "id": "06dc6543",
   "metadata": {},
   "outputs": [
    {
     "name": "stdout",
     "output_type": "stream",
     "text": [
      "asdfadsf\n",
      "Patient's C19Variant is unclear. \n",
      "Patient's C19Variant is Delta. \n",
      "Patient's C19Variant is Omicron. \n"
     ]
    }
   ],
   "source": [
    "def fun1(info):\n",
    "    if info==1:\n",
    "        a=\"asdfadsf\"\n",
    "    if info==2:\n",
    "        a =\"Patient's C19Variant is unclear. \"\n",
    "    elif info==3:\n",
    "        a =\"Patient's C19Variant is Delta. \"\n",
    "    elif info==4 :\n",
    "        a= \"Patient's C19Variant is Omicron. \"\n",
    "    return(a)\n",
    "\n",
    "\n",
    "df = pd.DataFrame({'s': [1,2,3,4]})\n",
    "\n",
    "for i in df.values.tolist():\n",
    "    for b in i:\n",
    "        print(fun1(b))\n",
    "\n",
    "\n"
   ]
  },
  {
   "cell_type": "code",
   "execution_count": null,
   "id": "949ba3f0",
   "metadata": {},
   "outputs": [],
   "source": []
  }
 ],
 "metadata": {
  "kernelspec": {
   "display_name": "Python 3",
   "language": "python",
   "name": "python3"
  },
  "language_info": {
   "codemirror_mode": {
    "name": "ipython",
    "version": 3
   },
   "file_extension": ".py",
   "mimetype": "text/x-python",
   "name": "python",
   "nbconvert_exporter": "python",
   "pygments_lexer": "ipython3",
   "version": "3.8.8"
  }
 },
 "nbformat": 4,
 "nbformat_minor": 5
}

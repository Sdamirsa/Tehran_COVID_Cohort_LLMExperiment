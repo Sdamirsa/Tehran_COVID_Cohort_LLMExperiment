{
 "cells": [
  {
   "cell_type": "code",
   "execution_count": 12,
   "id": "20b56124",
   "metadata": {},
   "outputs": [
    {
     "name": "stdout",
     "output_type": "stream",
     "text": [
      "    0    1    2    3    4    5    6    7    8    9         10        11\n",
      "0  0.0  0.0  0.0  0.0  0.0  1.0  0.0  1.0  0.0  0.0  0.816311  0.709836\n",
      "1  0.0  1.0  0.0  NaN  NaN  NaN  NaN  NaN  NaN  1.0       NaN  0.234923\n",
      "2  1.0  0.0  0.0  0.0  NaN  NaN  1.0  NaN  1.0  NaN  0.775305  0.774546\n",
      "3  1.0  1.0  1.0  NaN  1.0  1.0  0.0  1.0  0.0  1.0  0.638501       NaN\n",
      "4  1.0  0.0  0.0  0.0  0.0  NaN  0.0  1.0  NaN  0.0  0.976002  0.356913\n",
      "5  0.0  0.0  NaN  1.0  0.0  1.0  0.0  1.0  NaN  1.0       NaN  0.297556\n",
      "6  0.0  1.0  0.0  0.0  1.0  1.0  0.0  0.0  0.0  0.0  0.624987  0.490173\n",
      "7  1.0  0.0  NaN  1.0  0.0  0.0  1.0  NaN  NaN  NaN       NaN  0.513920\n",
      "8  1.0  NaN  NaN  1.0  1.0  0.0  1.0  1.0  NaN  NaN  0.469569  0.999450\n",
      "9  0.0  NaN  NaN  1.0  1.0  0.0  NaN  0.0  0.0  1.0       NaN  0.227705\n"
     ]
    }
   ],
   "source": [
    "import pandas as pd\n",
    "import numpy as np\n",
    "\n",
    "# Create a random 10x10 NumPy array with 0s, 1s, and NaNs\n",
    "data = np.random.choice([0, 1, np.nan], size=(10, 10), p=[0.4, 0.4, 0.2])\n",
    "\n",
    "# Create a Pandas DataFrame from the NumPy array\n",
    "df = pd.DataFrame(data)\n",
    "\n",
    "# Create a random 10x2 NumPy array with float values and NaNs\n",
    "data = np.random.rand(10, 2)  # Generates random float values between 0 and 1\n",
    "data[np.random.choice([True, False], size=(10, 2), p=[0.2, 0.8])] = np.nan  # Set 20% of values to NaN\n",
    "\n",
    "# Concatenate the DataFrames vertically into finaldataframe\n",
    "finaldataframe = pd.concat([df, df1], axis=1, ignore_index=True)\n",
    "\n",
    "# Display the merged DataFrame\n",
    "print(finaldataframe)"
   ]
  },
  {
   "cell_type": "code",
   "execution_count": 13,
   "id": "cd436b45",
   "metadata": {},
   "outputs": [
    {
     "name": "stdout",
     "output_type": "stream",
     "text": [
      "         0         1    2         3    4         5    6    7         8   \\\n",
      "0  0.000000  0.333333  1.0  1.000000  1.0  0.000000  0.0  0.0  1.000000   \n",
      "1  0.666667  0.000000  0.0  0.333333  0.0  1.000000  0.0  1.0  1.000000   \n",
      "2  1.000000  0.000000  0.0  1.000000  0.0  0.000000  0.0  0.0  1.000000   \n",
      "3  0.666667  1.000000  1.0  0.000000  1.0  0.333333  0.0  0.0  1.000000   \n",
      "4  0.666667  0.000000  1.0  0.000000  1.0  0.333333  0.0  0.0  1.000000   \n",
      "5  0.000000  0.000000  0.0  0.000000  0.0  0.000000  0.0  1.0  1.000000   \n",
      "6  1.000000  0.000000  1.0  1.000000  1.0  0.000000  1.0  0.0  0.666667   \n",
      "7  0.666667  0.000000  1.0  1.000000  1.0  0.000000  1.0  0.0  0.000000   \n",
      "8  0.000000  0.000000  0.0  0.000000  1.0  1.000000  1.0  0.0  1.000000   \n",
      "9  1.000000  0.000000  1.0  1.000000  1.0  1.000000  0.0  0.0  0.666667   \n",
      "\n",
      "         9         10        11  \n",
      "0  1.000000  0.636308  0.141460  \n",
      "1  0.333333  0.382764  0.564995  \n",
      "2  0.000000  0.542536  0.773039  \n",
      "3  0.000000  0.954225  0.940340  \n",
      "4  1.000000  0.826690  0.131321  \n",
      "5  0.666667  0.008007  0.264021  \n",
      "6  0.666667  0.278349  0.053132  \n",
      "7  0.666667  0.240531  0.239927  \n",
      "8  1.000000  0.615254  0.936056  \n",
      "9  0.000000  0.139212  0.232910  \n"
     ]
    }
   ],
   "source": [
    "import pandas as pd\n",
    "import numpy as np\n",
    "from sklearn.preprocessing import MinMaxScaler\n",
    "from sklearn.impute import KNNImputer\n",
    "\n",
    "# Create a random 10x10 NumPy array with 0s, 1s, and NaNs\n",
    "data = np.random.choice([0, 1, np.nan], size=(10, 10), p=[0.4, 0.4, 0.2])\n",
    "\n",
    "# Create a Pandas DataFrame from the NumPy array\n",
    "df = pd.DataFrame(data)\n",
    "\n",
    "# Create a random 10x2 NumPy array with float values and NaNs\n",
    "data1 = np.random.rand(10, 2)  # Generates random float values between 0 and 1\n",
    "data1[np.random.choice([True, False], size=(10, 2), p=[0.2, 0.8])] = np.nan  # Set 20% of values to NaN\n",
    "\n",
    "# Create a DataFrame for the second set of data\n",
    "df1 = pd.DataFrame(data1, columns=['Feature11', 'Feature12'])\n",
    "\n",
    "# Concatenate the DataFrames vertically into the final DataFrame\n",
    "finaldataframe = pd.concat([df, df1], axis=1, ignore_index=True)\n",
    "\n",
    "# Step 1: Normalize the DataFrame\n",
    "scaler = MinMaxScaler()\n",
    "normalized_data = scaler.fit_transform(finaldataframe)\n",
    "\n",
    "# Step 2: Perform KNN imputation on the normalized DataFrame\n",
    "knn_imputer = KNNImputer(n_neighbors=3)  # You can adjust the number of neighbors as needed\n",
    "imputed_data = knn_imputer.fit_transform(normalized_data)\n",
    "\n",
    "# Step 3: Convert the imputed DataFrame back to its original scale\n",
    "restored_data = scaler.inverse_transform(imputed_data)\n",
    "\n",
    "# Create a DataFrame from the restored data\n",
    "restored_dataframe = pd.DataFrame(restored_data, columns=finaldataframe.columns)\n",
    "\n",
    "# Display the merged and imputed DataFrame\n",
    "print(restored_dataframe)\n"
   ]
  },
  {
   "cell_type": "code",
   "execution_count": null,
   "id": "3baef3e5",
   "metadata": {},
   "outputs": [],
   "source": []
  }
 ],
 "metadata": {
  "kernelspec": {
   "display_name": "Python 3",
   "language": "python",
   "name": "python3"
  },
  "language_info": {
   "codemirror_mode": {
    "name": "ipython",
    "version": 3
   },
   "file_extension": ".py",
   "mimetype": "text/x-python",
   "name": "python",
   "nbconvert_exporter": "python",
   "pygments_lexer": "ipython3",
   "version": "3.8.8"
  }
 },
 "nbformat": 4,
 "nbformat_minor": 5
}

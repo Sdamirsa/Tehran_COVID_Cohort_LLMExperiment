{
 "cells": [
  {
   "cell_type": "code",
   "execution_count": 5,
   "id": "afc654e6",
   "metadata": {},
   "outputs": [
    {
     "name": "stdout",
     "output_type": "stream",
     "text": [
      "Given Dataframe :\n",
      "         Name  Age    Stream  Percentage\n",
      "0      Ankit   21      Math          88\n",
      "1       Amit   19  Commerce          92\n",
      "2  Aishwarya   20      Arts          95\n",
      "3   Priyanka   18   Biology          70\n",
      "\n",
      "Iterating over rows using index attribute :\n",
      "\n",
      "None\n",
      "None\n",
      "None\n",
      "None\n"
     ]
    }
   ],
   "source": [
    "# import pandas package as pd\n",
    "import pandas as pd\n",
    "\n",
    "# Define a dictionary containing students data\n",
    "data = {'Name': ['Ankit', 'Amit',\n",
    "\t\t\t\t'Aishwarya', 'Priyanka'],\n",
    "\t\t'Age': [21, 19, 20, 18],\n",
    "\t\t'Stream': ['Math', 'Commerce',\n",
    "\t\t\t\t'Arts', 'Biology'],\n",
    "\t\t'Percentage': [88, 92, 95, 70]}\n",
    "\n",
    "# Convert the dictionary into DataFrame\n",
    "df = pd.DataFrame(data, columns=['Name', 'Age',\n",
    "\t\t\t\t\t\t\t\t'Stream', 'Percentage'])\n",
    "\n",
    "print(\"Given Dataframe :\\n\", df)\n",
    "\n",
    "print(\"\\nIterating over rows using index attribute :\\n\")\n",
    "\n",
    "# iterate through each row and select\n",
    "# 'Name' and 'Stream' column respectively.\n",
    "lis=[]\n",
    "for ind in df.index:\n",
    "\tprint(lis.append(list((df['Name'][ind], df['Stream'][ind]))))\n"
   ]
  },
  {
   "cell_type": "code",
   "execution_count": null,
   "id": "73f87ccd",
   "metadata": {},
   "outputs": [],
   "source": []
  }
 ],
 "metadata": {
  "kernelspec": {
   "display_name": "Python 3",
   "language": "python",
   "name": "python3"
  },
  "language_info": {
   "codemirror_mode": {
    "name": "ipython",
    "version": 3
   },
   "file_extension": ".py",
   "mimetype": "text/x-python",
   "name": "python",
   "nbconvert_exporter": "python",
   "pygments_lexer": "ipython3",
   "version": "3.8.8"
  }
 },
 "nbformat": 4,
 "nbformat_minor": 5
}
